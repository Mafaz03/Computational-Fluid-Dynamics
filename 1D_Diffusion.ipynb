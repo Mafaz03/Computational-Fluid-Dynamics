{
 "cells": [
  {
   "cell_type": "code",
   "execution_count": 229,
   "id": "b922c955",
   "metadata": {},
   "outputs": [],
   "source": [
    "import numpy as np\n",
    "import matplotlib.pyplot as plt"
   ]
  },
  {
   "cell_type": "code",
   "execution_count": 214,
   "id": "2fa58552",
   "metadata": {},
   "outputs": [],
   "source": [
    "Lx        = 0.5\n",
    "num_nodes = 5\n",
    "del_x     = Lx / num_nodes\n",
    "k         = 1000\n",
    "A         = 0.01\n",
    "\n",
    "T_A       = 100\n",
    "T_B       = 500"
   ]
  },
  {
   "cell_type": "code",
   "execution_count": 215,
   "id": "d593e8c7",
   "metadata": {},
   "outputs": [
    {
     "data": {
      "text/plain": [
       "[0.1, 0.1, 0.1, 0.1, 0.1]"
      ]
     },
     "execution_count": 215,
     "metadata": {},
     "output_type": "execute_result"
    }
   ],
   "source": [
    "node_lengths = [del_x] * num_nodes\n",
    "node_lengths"
   ]
  },
  {
   "cell_type": "code",
   "execution_count": 216,
   "id": "81ef4090",
   "metadata": {},
   "outputs": [
    {
     "data": {
      "text/plain": [
       "[0.05, 0.05, 0.05, 0.05, 0.05]"
      ]
     },
     "execution_count": 216,
     "metadata": {},
     "output_type": "execute_result"
    }
   ],
   "source": [
    "half_length = [i/2 for i in node_lengths]\n",
    "half_length"
   ]
  },
  {
   "cell_type": "code",
   "execution_count": 217,
   "id": "eba1b742",
   "metadata": {},
   "outputs": [],
   "source": [
    "PE_WP = []\n",
    "for i in range(len(half_length)):\n",
    "    if i == 0:\n",
    "        PE_WP.append([half_length[i], half_length[i] + half_length[i+1]])\n",
    "    elif i == len(half_length)-1:\n",
    "        PE_WP.append([half_length[i] + half_length[i-1], half_length[i]])\n",
    "    else:\n",
    "        PE_WP.append([half_length[i] + half_length[i-1], half_length[i] + half_length[i+1]])"
   ]
  },
  {
   "cell_type": "code",
   "execution_count": 218,
   "id": "35b01647",
   "metadata": {},
   "outputs": [
    {
     "data": {
      "text/plain": [
       "[[0.05, 0.1], [0.1, 0.1], [0.1, 0.1], [0.1, 0.1], [0.1, 0.05]]"
      ]
     },
     "execution_count": 218,
     "metadata": {},
     "output_type": "execute_result"
    }
   ],
   "source": [
    "PE_WP"
   ]
  },
  {
   "cell_type": "code",
   "execution_count": 219,
   "id": "bf1e05a7",
   "metadata": {},
   "outputs": [],
   "source": [
    "def coef_generator(k, del_PE, del_WP, idx):\n",
    "    node_num = idx + 1\n",
    "\n",
    "    ap = ((k/del_PE)*A) + ((k/del_WP)*A)\n",
    "    aw =  (k/del_WP)*A\n",
    "    ae =  (k/del_PE)*A\n",
    "\n",
    "    return (ap, idx), (aw, idx - 1), (ae, idx + 1)\n",
    "\n",
    "coef_matrix = []\n",
    "for del_distances_idx in range(len(PE_WP)):\n",
    "    coef_matrix.append(coef_generator(\n",
    "                            k,\n",
    "                            del_PE = PE_WP[del_distances_idx][1],\n",
    "                            del_WP = PE_WP[del_distances_idx][0],\n",
    "                            idx    = del_distances_idx\n",
    "                            )\n",
    "                        )"
   ]
  },
  {
   "cell_type": "code",
   "execution_count": 220,
   "id": "6f627fcb",
   "metadata": {},
   "outputs": [
    {
     "data": {
      "text/plain": [
       "array([[0., 0., 0., 0., 0.],\n",
       "       [0., 0., 0., 0., 0.],\n",
       "       [0., 0., 0., 0., 0.],\n",
       "       [0., 0., 0., 0., 0.],\n",
       "       [0., 0., 0., 0., 0.]])"
      ]
     },
     "execution_count": 220,
     "metadata": {},
     "output_type": "execute_result"
    }
   ],
   "source": [
    "matrix_A = np.zeros((len(PE_WP), len(PE_WP)))\n",
    "matrix_A"
   ]
  },
  {
   "cell_type": "code",
   "execution_count": 221,
   "id": "24e493e9",
   "metadata": {},
   "outputs": [
    {
     "data": {
      "text/plain": [
       "array([0., 0., 0., 0., 0.])"
      ]
     },
     "execution_count": 221,
     "metadata": {},
     "output_type": "execute_result"
    }
   ],
   "source": [
    "matrix_B = np.zeros((len(PE_WP)))\n",
    "matrix_B"
   ]
  },
  {
   "cell_type": "code",
   "execution_count": 222,
   "id": "9a0bcc6d",
   "metadata": {},
   "outputs": [
    {
     "data": {
      "text/plain": [
       "[((300.0, 0), (200.0, -1), (100.0, 1)),\n",
       " ((200.0, 1), (100.0, 0), (100.0, 2)),\n",
       " ((200.0, 2), (100.0, 1), (100.0, 3)),\n",
       " ((200.0, 3), (100.0, 2), (100.0, 4)),\n",
       " ((300.0, 4), (100.0, 3), (200.0, 5))]"
      ]
     },
     "execution_count": 222,
     "metadata": {},
     "output_type": "execute_result"
    }
   ],
   "source": [
    "coef_matrix"
   ]
  },
  {
   "cell_type": "code",
   "execution_count": 223,
   "id": "c52a8330",
   "metadata": {},
   "outputs": [
    {
     "data": {
      "text/plain": [
       "array([ 20000.,      0.,      0.,      0., 100000.])"
      ]
     },
     "execution_count": 223,
     "metadata": {},
     "output_type": "execute_result"
    }
   ],
   "source": [
    "matrix_A = np.zeros((len(PE_WP), len(PE_WP)))\n",
    "matrix_B = np.zeros((len(PE_WP)))\n",
    "\n",
    "for i_idx, i in enumerate(coef_matrix):\n",
    "    for j_idx, j in enumerate(i):\n",
    "        if j[1] == -1 :\n",
    "            matrix_B[i_idx] = j[0] * T_A\n",
    "        elif j[1] == len(PE_WP):\n",
    "            matrix_B[i_idx] = j[0] * T_B\n",
    "        else:\n",
    "            if i_idx != j[1]:\n",
    "                matrix_A[i_idx][j[1]] = j[0] * -1\n",
    "            else:\n",
    "                matrix_A[i_idx][j[1]] = j[0]\n",
    "            \n",
    "matrix_B"
   ]
  },
  {
   "cell_type": "code",
   "execution_count": 224,
   "id": "0e8ffe8b",
   "metadata": {},
   "outputs": [
    {
     "data": {
      "text/plain": [
       "array([[ 300., -100.,    0.,    0.,    0.],\n",
       "       [-100.,  200., -100.,    0.,    0.],\n",
       "       [   0., -100.,  200., -100.,    0.],\n",
       "       [   0.,    0., -100.,  200., -100.],\n",
       "       [   0.,    0.,    0., -100.,  300.]])"
      ]
     },
     "execution_count": 224,
     "metadata": {},
     "output_type": "execute_result"
    }
   ],
   "source": [
    "matrix_A"
   ]
  },
  {
   "cell_type": "code",
   "execution_count": 225,
   "id": "ec710ea7",
   "metadata": {},
   "outputs": [],
   "source": [
    "X = np.zeros(len(matrix_B))"
   ]
  },
  {
   "cell_type": "code",
   "execution_count": 226,
   "id": "a15ec5e6",
   "metadata": {},
   "outputs": [],
   "source": [
    "def Gauss_Sadel(A, B, X, tolerance):\n",
    "    relative_error = np.inf\n",
    "    loops_taken = 0\n",
    "\n",
    "    while relative_error > tolerance:\n",
    "        X_old = X.copy()\n",
    "        for j in range(len(A)):\n",
    "            sum = 0\n",
    "            for i in range(len(A)):\n",
    "                if i != j:\n",
    "                    sum += A[j][i] * X[i]\n",
    "            X[j] = (B[j] - sum) / A[j][j]\n",
    "\n",
    "        relative_error = np.max(np.abs(X - X_old) / (np.abs(X) + 1e-9))\n",
    "        loops_taken += 1\n",
    "\n",
    "    return X, loops_taken\n",
    "X, loops_taken = Gauss_Sadel(matrix_A, matrix_B, X, tolerance = 1e-12)"
   ]
  },
  {
   "cell_type": "code",
   "execution_count": 227,
   "id": "b2d19ad5",
   "metadata": {},
   "outputs": [
    {
     "data": {
      "text/plain": [
       "array([140., 220., 300., 380., 460.])"
      ]
     },
     "execution_count": 227,
     "metadata": {},
     "output_type": "execute_result"
    }
   ],
   "source": [
    "X"
   ]
  },
  {
   "cell_type": "code",
   "execution_count": 228,
   "id": "33cb633b",
   "metadata": {},
   "outputs": [
    {
     "data": {
      "text/plain": [
       "69"
      ]
     },
     "execution_count": 228,
     "metadata": {},
     "output_type": "execute_result"
    }
   ],
   "source": [
    "loops_taken"
   ]
  },
  {
   "cell_type": "code",
   "execution_count": 232,
   "id": "8223869f",
   "metadata": {},
   "outputs": [
    {
     "data": {
      "text/plain": [
       "[<matplotlib.lines.Line2D at 0x11e014a90>]"
      ]
     },
     "execution_count": 232,
     "metadata": {},
     "output_type": "execute_result"
    },
    {
     "data": {
      "image/png": "[encoded data removed]",
      "text/plain": [
       "<Figure size 640x480 with 1 Axes>"
      ]
     },
     "metadata": {},
     "output_type": "display_data"
    }
   ],
   "source": [
    "plt.plot(np.cumsum(node_lengths), X, marker='o')"
   ]
  }
 ],
 "metadata": {
  "kernelspec": {
   "display_name": "Python 3",
   "language": "python",
   "name": "python3"
  },
  "language_info": {
   "codemirror_mode": {
    "name": "ipython",
    "version": 3
   },
   "file_extension": ".py",
   "mimetype": "text/x-python",
   "name": "python",
   "nbconvert_exporter": "python",
   "pygments_lexer": "ipython3",
   "version": "3.11.5"
  }
 },
 "nbformat": 4,
 "nbformat_minor": 5
}
