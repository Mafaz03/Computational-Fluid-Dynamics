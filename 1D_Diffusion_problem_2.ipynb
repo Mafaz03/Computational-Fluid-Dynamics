{
 "cells": [
  {
   "cell_type": "code",
   "execution_count": 77,
   "id": "32deff21",
   "metadata": {},
   "outputs": [],
   "source": [
    "# CHAPTER 4 FINITE VOLUME METHOD FOR DIFFUSION PROBLEMS"
   ]
  },
  {
   "cell_type": "code",
   "execution_count": 78,
   "id": "b922c955",
   "metadata": {},
   "outputs": [],
   "source": [
    "import numpy as np\n",
    "import matplotlib.pyplot as plt"
   ]
  },
  {
   "cell_type": "code",
   "execution_count": 79,
   "id": "2fa58552",
   "metadata": {},
   "outputs": [],
   "source": [
    "Lx        = 0.02 # Length of the plate\n",
    "num_nodes = 5\n",
    "del_x     = Lx / num_nodes\n",
    "k         = 0.5\n",
    "A         = 0.01\n",
    "A         = 1\n",
    "\n",
    "q         = 1_000_000  # uniform heat generation\n",
    "\n",
    "T_A       = 100\n",
    "T_B       = 200"
   ]
  },
  {
   "cell_type": "code",
   "execution_count": 80,
   "id": "b6f42031",
   "metadata": {},
   "outputs": [],
   "source": [
    "# We treat the first term of the above equation as in the previous example. The\n",
    "# second integral, the source term of the equation, is evaluated by calculating\n",
    "# the average generation (i.e. D∆V= q∆V) within each control volume."
   ]
  },
  {
   "cell_type": "code",
   "execution_count": 81,
   "id": "d593e8c7",
   "metadata": {},
   "outputs": [
    {
     "data": {
      "text/plain": [
       "[0.004, 0.004, 0.004, 0.004, 0.004]"
      ]
     },
     "execution_count": 81,
     "metadata": {},
     "output_type": "execute_result"
    }
   ],
   "source": [
    "node_lengths = [del_x] * num_nodes\n",
    "node_lengths"
   ]
  },
  {
   "cell_type": "code",
   "execution_count": 82,
   "id": "81ef4090",
   "metadata": {},
   "outputs": [
    {
     "data": {
      "text/plain": [
       "[0.002, 0.002, 0.002, 0.002, 0.002]"
      ]
     },
     "execution_count": 82,
     "metadata": {},
     "output_type": "execute_result"
    }
   ],
   "source": [
    "half_length = [i/2 for i in node_lengths]\n",
    "half_length"
   ]
  },
  {
   "cell_type": "code",
   "execution_count": 83,
   "id": "eba1b742",
   "metadata": {},
   "outputs": [],
   "source": [
    "PE_WP = []\n",
    "for i in range(len(half_length)):\n",
    "    if i == 0:\n",
    "        PE_WP.append([half_length[i], half_length[i] + half_length[i+1]])\n",
    "    elif i == len(half_length)-1:\n",
    "        PE_WP.append([half_length[i] + half_length[i-1], half_length[i]])\n",
    "    else:\n",
    "        PE_WP.append([half_length[i] + half_length[i-1], half_length[i] + half_length[i+1]])"
   ]
  },
  {
   "cell_type": "code",
   "execution_count": 84,
   "id": "35b01647",
   "metadata": {},
   "outputs": [
    {
     "data": {
      "text/plain": [
       "[[0.002, 0.004],\n",
       " [0.004, 0.004],\n",
       " [0.004, 0.004],\n",
       " [0.004, 0.004],\n",
       " [0.004, 0.002]]"
      ]
     },
     "execution_count": 84,
     "metadata": {},
     "output_type": "execute_result"
    }
   ],
   "source": [
    "PE_WP"
   ]
  },
  {
   "cell_type": "code",
   "execution_count": 85,
   "id": "bf1e05a7",
   "metadata": {},
   "outputs": [],
   "source": [
    "def coef_generator(k, del_PE, del_WP, idx):\n",
    "    node_num = idx + 1\n",
    "\n",
    "    if idx == 0:                         # Treating boundary's source term differently. eqn 4.36\n",
    "        S_P = (-2 * k * A) / max(del_WP, del_PE)\n",
    "        S_U = (q * A * max(del_WP, del_PE)) + ((2 * k * A * T_A) / max(del_WP, del_PE))\n",
    "        aw  =  0\n",
    "        ae  = ((k*A)/max(del_WP, del_PE))\n",
    "        ap  = aw + ae - S_P\n",
    "\n",
    "    elif idx == len(PE_WP)-1:            # Treating boundary's source term differently. eqn 4.36\n",
    "        S_P = (-2 * k * A) / max(del_WP, del_PE)\n",
    "        S_U = (q * A * max(del_WP, del_PE)) + ((2 * k * A * T_B) / max(del_WP, del_PE))\n",
    "        aw  = ((k*A)/max(del_WP, del_PE))\n",
    "        ae  = 0\n",
    "        ap  = aw + ae - S_P\n",
    "    \n",
    "    else:                                # Treating non boundary's source term differently. eqn 4.33\n",
    "        S_P = 0\n",
    "        S_U = q * A * max(del_WP, del_PE)\n",
    "        aw = ((k*A)/max(del_WP, del_PE))\n",
    "        ae = ((k*A)/max(del_WP, del_PE))\n",
    "        ap = aw + ae - S_P\n",
    "        ap  += S_P\n",
    "\n",
    "    return (ap, idx), (aw, idx - 1), (ae, idx + 1), S_U, S_P\n",
    "\n",
    "coef_matrix = []\n",
    "for del_distances_idx in range(len(PE_WP)):\n",
    "    coef_matrix.append(coef_generator(\n",
    "                            k,\n",
    "                            del_PE = PE_WP[del_distances_idx][1],\n",
    "                            del_WP = PE_WP[del_distances_idx][0],\n",
    "                            idx    = del_distances_idx\n",
    "                            )\n",
    "                        )"
   ]
  },
  {
   "cell_type": "code",
   "execution_count": 86,
   "id": "7900af7d",
   "metadata": {},
   "outputs": [
    {
     "data": {
      "text/plain": [
       "((375.0, 0), (0, -1), (125.0, 1), 29000.0, -250.0)"
      ]
     },
     "execution_count": 86,
     "metadata": {},
     "output_type": "execute_result"
    }
   ],
   "source": [
    "coef_generator(\n",
    "            k,\n",
    "            del_PE = PE_WP[del_distances_idx][1],\n",
    "            del_WP = PE_WP[del_distances_idx][0],\n",
    "            idx    = 0\n",
    "            )"
   ]
  },
  {
   "cell_type": "code",
   "execution_count": 87,
   "id": "b41b8d46",
   "metadata": {},
   "outputs": [
    {
     "data": {
      "text/plain": [
       "[((375.0, 0), (0, -1), (125.0, 1), 29000.0, -250.0),\n",
       " ((250.0, 1), (125.0, 0), (125.0, 2), 4000.0, 0),\n",
       " ((250.0, 2), (125.0, 1), (125.0, 3), 4000.0, 0),\n",
       " ((250.0, 3), (125.0, 2), (125.0, 4), 4000.0, 0),\n",
       " ((375.0, 4), (125.0, 3), (0, 5), 54000.0, -250.0)]"
      ]
     },
     "execution_count": 87,
     "metadata": {},
     "output_type": "execute_result"
    }
   ],
   "source": [
    "coef_matrix"
   ]
  },
  {
   "cell_type": "code",
   "execution_count": 88,
   "id": "6f627fcb",
   "metadata": {},
   "outputs": [
    {
     "data": {
      "text/plain": [
       "array([[0., 0., 0., 0., 0.],\n",
       "       [0., 0., 0., 0., 0.],\n",
       "       [0., 0., 0., 0., 0.],\n",
       "       [0., 0., 0., 0., 0.],\n",
       "       [0., 0., 0., 0., 0.]])"
      ]
     },
     "execution_count": 88,
     "metadata": {},
     "output_type": "execute_result"
    }
   ],
   "source": [
    "matrix_A = np.zeros((len(PE_WP), len(PE_WP)))\n",
    "matrix_A"
   ]
  },
  {
   "cell_type": "code",
   "execution_count": 89,
   "id": "24e493e9",
   "metadata": {},
   "outputs": [
    {
     "data": {
      "text/plain": [
       "array([0., 0., 0., 0., 0.])"
      ]
     },
     "execution_count": 89,
     "metadata": {},
     "output_type": "execute_result"
    }
   ],
   "source": [
    "matrix_B = np.zeros((len(PE_WP)))\n",
    "matrix_B"
   ]
  },
  {
   "cell_type": "code",
   "execution_count": 90,
   "id": "c52a8330",
   "metadata": {},
   "outputs": [],
   "source": [
    "matrix_A = np.zeros((len(PE_WP), len(PE_WP)))\n",
    "matrix_B = np.zeros((len(PE_WP)))\n",
    "\n",
    "for i_idx, i in enumerate(coef_matrix):\n",
    "    for j_idx, j in enumerate(i):\n",
    "        if type(j) == tuple:\n",
    "            if j[1] == -1 :\n",
    "                matrix_B[i_idx] = j[0] * T_A\n",
    "            elif j[1] == len(PE_WP):\n",
    "                matrix_B[i_idx] = j[0] * T_B\n",
    "            else:\n",
    "                if i_idx != j[1]:\n",
    "                    matrix_A[i_idx][j[1]] = j[0] * -1\n",
    "                else:\n",
    "                    matrix_A[i_idx][j[1]] = j[0]"
   ]
  },
  {
   "cell_type": "code",
   "execution_count": 91,
   "id": "fe484583",
   "metadata": {},
   "outputs": [
    {
     "data": {
      "text/plain": [
       "[29000.0, 4000.0, 4000.0, 4000.0, 54000.0]"
      ]
     },
     "execution_count": 91,
     "metadata": {},
     "output_type": "execute_result"
    }
   ],
   "source": [
    "matrix_B = [i[-2] for i in coef_matrix]\n",
    "matrix_B"
   ]
  },
  {
   "cell_type": "code",
   "execution_count": 92,
   "id": "0e8ffe8b",
   "metadata": {},
   "outputs": [
    {
     "data": {
      "text/plain": [
       "array([[ 375., -125.,    0.,    0.,    0.],\n",
       "       [-125.,  250., -125.,    0.,    0.],\n",
       "       [   0., -125.,  250., -125.,    0.],\n",
       "       [   0.,    0., -125.,  250., -125.],\n",
       "       [   0.,    0.,    0., -125.,  375.]])"
      ]
     },
     "execution_count": 92,
     "metadata": {},
     "output_type": "execute_result"
    }
   ],
   "source": [
    "matrix_A"
   ]
  },
  {
   "cell_type": "code",
   "execution_count": 93,
   "id": "ec710ea7",
   "metadata": {},
   "outputs": [],
   "source": [
    "X = np.zeros(len(matrix_B))"
   ]
  },
  {
   "cell_type": "code",
   "execution_count": 94,
   "id": "a15ec5e6",
   "metadata": {},
   "outputs": [],
   "source": [
    "def Gauss_Sadel(A, B, X, tolerance):\n",
    "    relative_error = np.inf\n",
    "    loops_taken = 0\n",
    "\n",
    "    while relative_error > tolerance:\n",
    "        X_old = X.copy()\n",
    "        for j in range(len(A)):\n",
    "            sum = 0\n",
    "            for i in range(len(A)):\n",
    "                if i != j:\n",
    "                    sum += A[j][i] * X[i]\n",
    "            X[j] = (B[j] - sum) / A[j][j]\n",
    "\n",
    "        relative_error = np.max(np.abs(X - X_old) / (np.abs(X) + 1e-9))\n",
    "        loops_taken += 1\n",
    "\n",
    "    return X, loops_taken\n",
    "X, loops_taken = Gauss_Sadel(matrix_A, matrix_B, X, tolerance = 1e-12)"
   ]
  },
  {
   "cell_type": "code",
   "execution_count": 95,
   "id": "b2d19ad5",
   "metadata": {},
   "outputs": [
    {
     "data": {
      "text/plain": [
       "array([150., 218., 254., 258., 230.])"
      ]
     },
     "execution_count": 95,
     "metadata": {},
     "output_type": "execute_result"
    }
   ],
   "source": [
    "X"
   ]
  },
  {
   "cell_type": "code",
   "execution_count": 96,
   "id": "33cb633b",
   "metadata": {},
   "outputs": [
    {
     "data": {
      "text/plain": [
       "68"
      ]
     },
     "execution_count": 96,
     "metadata": {},
     "output_type": "execute_result"
    }
   ],
   "source": [
    "loops_taken"
   ]
  },
  {
   "cell_type": "code",
   "execution_count": 97,
   "id": "8223869f",
   "metadata": {},
   "outputs": [
    {
     "data": {
      "image/png": "[encoded data removed]",
      "text/plain": [
       "<Figure size 640x480 with 1 Axes>"
      ]
     },
     "metadata": {},
     "output_type": "display_data"
    }
   ],
   "source": [
    "plt.plot(np.cumsum(node_lengths), X, marker='o')\n",
    "plt.grid(True)\n",
    "plt.show()"
   ]
  },
  {
   "cell_type": "code",
   "execution_count": 98,
   "id": "167a8192",
   "metadata": {},
   "outputs": [
    {
     "data": {
      "image/png": "[encoded data removed]",
      "text/plain": [
       "<Figure size 640x480 with 1 Axes>"
      ]
     },
     "metadata": {},
     "output_type": "display_data"
    }
   ],
   "source": [
    "import matplotlib.pyplot as plt\n",
    "import numpy as np\n",
    "\n",
    "# Suppose you have N nodes along x, and temperature vector X\n",
    "N = len(X)\n",
    "x = np.linspace(0, Lx, N)  # spatial positions along domain length L\n",
    "\n",
    "plt.plot(x, X, marker='o', linestyle='-', color='red')\n",
    "plt.xlabel('Length (x)')\n",
    "plt.ylabel('Temperature (°C)')\n",
    "plt.title('Temperature Distribution Along the Domain')\n",
    "plt.grid(True)\n",
    "plt.show()"
   ]
  }
 ],
 "metadata": {
  "kernelspec": {
   "display_name": "Python 3",
   "language": "python",
   "name": "python3"
  },
  "language_info": {
   "codemirror_mode": {
    "name": "ipython",
    "version": 3
   },
   "file_extension": ".py",
   "mimetype": "text/x-python",
   "name": "python",
   "nbconvert_exporter": "python",
   "pygments_lexer": "ipython3",
   "version": "3.11.5"
  }
 },
 "nbformat": 4,
 "nbformat_minor": 5
}
