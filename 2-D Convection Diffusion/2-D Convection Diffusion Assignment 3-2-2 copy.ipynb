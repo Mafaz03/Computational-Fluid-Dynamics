{
 "cells": [
  {
   "cell_type": "code",
   "execution_count": 594,
   "id": "ac8e3288",
   "metadata": {},
   "outputs": [],
   "source": [
    "import numpy as np\n",
    "import matplotlib.pyplot as plt"
   ]
  },
  {
   "cell_type": "code",
   "execution_count": 595,
   "id": "402138da",
   "metadata": {},
   "outputs": [],
   "source": [
    "def tdma_solve(a, b, c, d):\n",
    "    n = len(d)\n",
    "    c_prime = np.zeros(n-1)\n",
    "    d_prime = np.zeros(n)\n",
    "    x = np.zeros(n)\n",
    "    \n",
    "    c_prime[0] = c[0] / b[0]\n",
    "    d_prime[0] = d[0] / b[0]\n",
    "    \n",
    "    for i in range(1, n-1):\n",
    "        denom = b[i] - a[i] * c_prime[i-1]\n",
    "        if abs(denom) < 1e-14: denom = 1e-14 # Divisonn by zero might cause porblems\n",
    "        c_prime[i] = c[i] / denom\n",
    "        d_prime[i] = (d[i] - a[i] * d_prime[i-1]) / denom\n",
    "    \n",
    "    denom = b[n-1] - a[n-1] * c_prime[n-2]\n",
    "    if abs(denom) < 1e-14:\n",
    "        denom = 1e-14\n",
    "    d_prime[n-1] = (d[n-1] - a[n-1] * d_prime[n-2]) / denom\n",
    "    \n",
    "    x[n-1] = d_prime[n-1]\n",
    "    for i in range(n-2, -1, -1): #reverse for back substitution\n",
    "        x[i] = d_prime[i] - c_prime[i] * x[i+1]\n",
    "    \n",
    "    return x"
   ]
  },
  {
   "cell_type": "code",
   "execution_count": 596,
   "id": "32b4b53b",
   "metadata": {},
   "outputs": [
    {
     "name": "stdout",
     "output_type": "stream",
     "text": [
      "Grid size: 27 x 27 = 729 cells\n"
     ]
    }
   ],
   "source": [
    "xc = np.loadtxt('xc.dat')\n",
    "yc = np.loadtxt('yc.dat')\n",
    "u_flat = np.loadtxt('u.dat')\n",
    "v_flat = np.loadtxt('v.dat')\n",
    "\n",
    "n = len(u_flat)\n",
    "nx = int(np.sqrt(n))  # Should be 27\n",
    "ny = n // nx          # Should be 27\n",
    "\n",
    "print(f\"Grid size: {nx} x {ny} = {n} cells\")\n",
    "\n",
    "# Reshape to 2D arrays (CRITICAL: Fortran order, then transpose)\n",
    "U = u_flat.reshape((ny, nx), order='F').T\n",
    "V = v_flat.reshape((ny, nx), order='F').T"
   ]
  },
  {
   "cell_type": "code",
   "execution_count": 597,
   "id": "d0c10caf",
   "metadata": {},
   "outputs": [],
   "source": [
    "rho = 1.0                    # Density\n",
    "Gamma = 1.0 / 50.0          # k/cp = 0.02\n",
    "alpha = 0.2\n",
    "L = xc.max()                  # Domain length\n",
    "H = yc.max()                  # Domain height\n",
    "h_A = 0.068 * H             # Inlet A height\n",
    "h_B = 0.068 * H             # Inlet B height  \n",
    "h_C = 0.068 * H             # Outlet C height\n",
    "\n",
    "U_A = 0.0      # Inlet A velocity\n",
    "U_B = 0.0        # Inlet B velocity (no flow)\n",
    "U_C = 0.0        # Outlet C velocity\n",
    "V_D = 0.0        # Top boundary velocity\n",
    "T_A = 20.0       # Inlet A temperature (°C)\n",
    "T_wall = 50.0    # Right wall temperature (°C)\n",
    "\n",
    "node_block = 4\n",
    "\n",
    "max_iter = 500\n",
    "tolerance = 1e-5\n",
    "tolerance = 0.0001"
   ]
  },
  {
   "cell_type": "code",
   "execution_count": 598,
   "id": "f9913f0a",
   "metadata": {},
   "outputs": [],
   "source": [
    "U[:6, 22:] = 1.0 # Ua\n",
    "V[13:17, 20:] = 0 # Vd #-\n",
    "U[:6, :8] = 0 # Ub     # -\n",
    "U[20:, :8] = 1.0 # Uc"
   ]
  },
  {
   "cell_type": "code",
   "execution_count": 599,
   "id": "ab3dcefe",
   "metadata": {},
   "outputs": [
    {
     "name": "stdout",
     "output_type": "stream",
     "text": [
      "\n",
      "Initial T range: [20.00, 50.00]°C\n"
     ]
    }
   ],
   "source": [
    "T = np.ones((nx, ny)) * 35.0  # Initial guess midway between boundaries\n",
    "\n",
    "\n",
    "T[0, 0] = T_A         # Inlet A\n",
    "    \n",
    "T[-1, nx-1] = T_wall  # Right wall at x=L (except outlet)\n",
    "\n",
    "print(f\"\\nInitial T range: [{T.min():.2f}, {T.max():.2f}]°C\")"
   ]
  },
  {
   "cell_type": "code",
   "execution_count": 600,
   "id": "3b4d4063",
   "metadata": {},
   "outputs": [],
   "source": [
    "# x = np.linspace(xc.min(), xc.max(), nx)\n",
    "# y = np.linspace(yc.min(), yc.max(), ny)\n",
    "\n",
    "x = 0.5 * (xc[:-1] + xc[1:])\n",
    "x = np.insert(x, 0, 0)\n",
    "x = np.insert(x, len(x), 2)\n",
    "\n",
    "y = 0.5 * (yc[:-1] + yc[1:])\n",
    "y = np.insert(y, 0, 0)\n",
    "y = np.insert(y, len(y), 2)\n",
    "\n",
    "# dx, dy = x[1] - x[0], y[1] - y[0]"
   ]
  },
  {
   "cell_type": "code",
   "execution_count": 601,
   "id": "b61e70d9",
   "metadata": {},
   "outputs": [],
   "source": [
    "x_direction = True\n",
    "y_direction = True"
   ]
  },
  {
   "cell_type": "code",
   "execution_count": 602,
   "id": "2f3ae454",
   "metadata": {},
   "outputs": [],
   "source": [
    "dx_cells = np.zeros(nx)\n",
    "dy_cells = np.zeros(ny)\n",
    "\n",
    "for i in range(nx):\n",
    "    if i == 0:\n",
    "        dx_cells[i] = x[1] - x[0]\n",
    "    elif i == nx-1:\n",
    "        dx_cells[i] = x[-1] - x[-2]\n",
    "    else:\n",
    "        dx_cells[i] = 0.5 * (x[i+1] - x[i-1])\n",
    "\n",
    "for j in range(ny):\n",
    "    if j == 0:\n",
    "        dy_cells[j] = y[1] - y[0]\n",
    "    elif j == ny-1:\n",
    "        dy_cells[j] = y[-1] - y[-2]\n",
    "    else:\n",
    "        dy_cells[j] = 0.5 * (y[j+1] - y[j-1])"
   ]
  },
  {
   "cell_type": "code",
   "execution_count": 603,
   "id": "04031830",
   "metadata": {},
   "outputs": [],
   "source": [
    "Pe_threshold = 2"
   ]
  },
  {
   "cell_type": "code",
   "execution_count": 604,
   "id": "2d519ac5",
   "metadata": {},
   "outputs": [],
   "source": [
    "cp = 100"
   ]
  },
  {
   "cell_type": "code",
   "execution_count": null,
   "id": "c8ca0b40",
   "metadata": {},
   "outputs": [
    {
     "data": {
      "image/png": "[encoded data removed]",
      "text/plain": [
       "<Figure size 1600x500 with 2 Axes>"
      ]
     },
     "metadata": {},
     "output_type": "display_data"
    }
   ],
   "source": [
    "epsilon_history = []\n",
    "for iteration in range(max_iter):\n",
    "    Pe_history = []\n",
    "    T_old = T.copy()\n",
    "    \n",
    "    if x_direction:\n",
    "        # ========================================================================\n",
    "        # X-DIRECTION SWEEP\n",
    "        # ========================================================================\n",
    "        for j in range(1, ny-1):\n",
    "            a = np.zeros(nx)\n",
    "            b = np.zeros(nx)\n",
    "            c = np.zeros(nx)\n",
    "            d = np.zeros(nx)\n",
    "            \n",
    "            for i in range(1, nx-1):\n",
    "\n",
    "                dx = dx_cells[i]\n",
    "                dy = dy_cells[j]\n",
    "\n",
    "                # Face velocities\n",
    "                u_e = 0.5 * (U[i,j] + U[i+1,j])\n",
    "                u_w = 0.5 * (U[i,j] + U[i-1,j])\n",
    "                v_n = 0.5 * (V[i,j] + V[i,j+1])\n",
    "                v_s = 0.5 * (V[i,j] + V[i,j-1])\n",
    "                \n",
    "                # Convective fluxes\n",
    "                F_e = rho * u_e * dy\n",
    "                F_w = rho * u_w * dy\n",
    "                F_n = rho * v_n * dx\n",
    "                F_s = rho * v_s * dx\n",
    "                \n",
    "                # Diffusive conductances\n",
    "                D_e = Gamma * dy / dx\n",
    "                D_w = Gamma * dy / dx\n",
    "                D_n = Gamma * dx / dy\n",
    "                D_s = Gamma * dx / dy\n",
    "                \n",
    "                # Peclet numbers\n",
    "                Pe_e = F_e / D_e #if abs(D_e) > 1e-12 else 1e10\n",
    "                Pe_w = F_w / D_w #if abs(D_w) > 1e-12 else 1e10\n",
    "                Pe_n = F_n / D_n #if abs(D_n) > 1e-12 else 1e10\n",
    "                Pe_s = F_s / D_s #if abs(D_s) > 1e-12 else 1e10\n",
    "\n",
    "                Pe_history.append(((Pe_e + Pe_w + Pe_n + Pe_s)/4))\n",
    "                \n",
    "                # Hybrid scheme coefficients\n",
    "                if abs(Pe_e) < Pe_threshold:\n",
    "                    a_E = D_e - 0.5 * F_e\n",
    "                else:\n",
    "                    a_E = D_e + max(0.0, -F_e)\n",
    "                \n",
    "                if abs(Pe_w) < Pe_threshold:\n",
    "                    a_W = D_w + 0.5 * F_w\n",
    "                else:\n",
    "                    a_W = D_w + max(0.0, F_w)\n",
    "                \n",
    "                if abs(Pe_n) < Pe_threshold:\n",
    "                    a_N = D_n - 0.5 * F_n\n",
    "                else:\n",
    "                    a_N = D_n + max(0.0, -F_n)\n",
    "                \n",
    "                if abs(Pe_s) < Pe_threshold:\n",
    "                    a_S = D_s + 0.5 * F_s\n",
    "                else:\n",
    "                    a_S = D_s + max(0.0, F_s)\n",
    "                \n",
    "                # Source term (lagged cross-direction)\n",
    "                S = a_N * T[i, j+1] + a_S * T[i, j-1]\n",
    "                \n",
    "                # Central coefficient\n",
    "                a_P = a_E + a_W + a_N + a_S\n",
    "                \n",
    "                # Assemble tridiagonal system\n",
    "                a[i] = -a_W # lower diagonal\n",
    "                b[i] = a_P  # the middle wala part\n",
    "                c[i] = -a_E # uppser diagonal\n",
    "                d[i] = S    # the known stuff\n",
    "            \n",
    "            # Left boundary (x = 0)\n",
    "            b[0] = 1.0\n",
    "            c[0] = 0.0\n",
    "            if j == ny-1:  # Now this will actually execute!\n",
    "                d[0] = T_A  # Top-left corner\n",
    "            else:\n",
    "                d[0] = T[0, j]  # Other left boundary nodes\n",
    "            \n",
    "            # Right boundary (x = L)\n",
    "            a[-1] = 0.0\n",
    "            b[-1] = 1.0\n",
    "            if j == 0:\n",
    "                d[-1] = T[-1, j]  # Bottom-right\n",
    "            else:\n",
    "                d[-1] = T_wall  # Other right boundary nodes\n",
    "            \n",
    "            T_new = tdma_solve(a, b, c, d)\n",
    "            T[:, j] = alpha * T_new + (1.0 - alpha) * T[:, j]\n",
    "    \n",
    "    if y_direction: \n",
    "        # ========================================================================\n",
    "        # Y-DIRECTION SWEEP\n",
    "        # ========================================================================\n",
    "        for i in range(1, nx-1):\n",
    "            a = np.zeros(ny)\n",
    "            b = np.zeros(ny)\n",
    "            c = np.zeros(ny)\n",
    "            d = np.zeros(ny)\n",
    "            \n",
    "            for j in range(1, ny-1):\n",
    "                # Face velocities\n",
    "                u_e = 0.5 * (U[i,j] + U[i+1,j])\n",
    "                u_w = 0.5 * (U[i,j] + U[i-1,j])\n",
    "                v_n = 0.5 * (V[i,j] + V[i,j+1])\n",
    "                v_s = 0.5 * (V[i,j] + V[i,j-1])\n",
    "                \n",
    "                # Fluxes\n",
    "                F_e = rho * u_e * dy\n",
    "                F_w = rho * u_w * dy\n",
    "                F_n = rho * v_n * dx\n",
    "                F_s = rho * v_s * dx\n",
    "                \n",
    "                # Diffusion\n",
    "                D_e = Gamma * dy / dx\n",
    "                D_w = Gamma * dy / dx\n",
    "                D_n = Gamma * dx / dy\n",
    "                D_s = Gamma * dx / dy\n",
    "                \n",
    "                # Peclet\n",
    "                Pe_e = F_e / D_e #if abs(D_e) > 1e-12 else 1e10\n",
    "                Pe_w = F_w / D_w #if abs(D_w) > 1e-12 else 1e10\n",
    "                Pe_n = F_n / D_n #if abs(D_n) > 1e-12 else 1e10\n",
    "                Pe_s = F_s / D_s #if abs(D_s) > 1e-12 else 1e10\n",
    "                \n",
    "                # Hybrid scheme\n",
    "                if abs(Pe_e) < Pe_threshold:\n",
    "                    a_E = D_e - 0.5 * F_e\n",
    "                else:\n",
    "                    a_E = D_e + max(0.0, -F_e)\n",
    "                \n",
    "                if abs(Pe_w) < Pe_threshold:\n",
    "                    a_W = D_w + 0.5 * F_w\n",
    "                else:\n",
    "                    a_W = D_w + max(0.0, F_w)\n",
    "                \n",
    "                if abs(Pe_n) < Pe_threshold:\n",
    "                    a_N = D_n - 0.5 * F_n\n",
    "                else:\n",
    "                    a_N = D_n + max(0.0, -F_n)\n",
    "                \n",
    "                if abs(Pe_s) < Pe_threshold:\n",
    "                    a_S = D_s + 0.5 * F_s\n",
    "                else:\n",
    "                    a_S = D_s + max(0.0, F_s)\n",
    "                \n",
    "                # Source (lagged)\n",
    "                S = a_E * T[i+1, j] + a_W * T[i-1, j]\n",
    "                \n",
    "                a_P = a_E + a_W + a_N + a_S\n",
    "                \n",
    "                # Assemble\n",
    "                a[j] = -a_S\n",
    "                b[j] = a_P\n",
    "                c[j] = -a_N\n",
    "                d[j] = S\n",
    "            \n",
    "            # Bottom boundary (y = 0)\n",
    "            b[0] = 1.0\n",
    "            c[0] = 0.0\n",
    "            if i == 0:\n",
    "                d[0] = T[i, 0]  # Left boundary\n",
    "            else:\n",
    "                d[0] = T[i, 0]  # Other bottom nodes\n",
    "            \n",
    "            # Top boundary (y = H)\n",
    "            a[-1] = 0.0\n",
    "            b[-1] = 1.0\n",
    "            if i == 0:\n",
    "                d[-1] = T_A  # Top-left corner (can also enforce here)\n",
    "            else:\n",
    "                d[-1] = T[i, -1]  # Other top nodes\n",
    "            \n",
    "            T_new = tdma_solve(a, b, c, d)\n",
    "            T[i, :] = alpha * T_new + (1.0 - alpha) * T[i, :]\n",
    "    \n",
    "    \n",
    "    T[:node_block, nx-node_block:] = T_A     # Top left\n",
    "    # T[:node_block, :node_block] = T_A        # Bottom left\n",
    "    # for p in range(ny):\n",
    "    #     T[:node_block, p] = T_A * p     \n",
    "\n",
    "    # T[ny-node_block:, nx-node_block:] = T_A  # Top right\n",
    "    # T[ny-node_block:, :node_block] = T_A     # Bottom right\n",
    "    \n",
    "    # ========================================================================\n",
    "    # CONVERGENCE CHECK\n",
    "    # ========================================================================\n",
    "    if iteration % 1 == 0:\n",
    "        residual_sum = 0.0\n",
    "        flux_sum_total = 0.0\n",
    "        \n",
    "        for i in range(1, nx-1):\n",
    "            for j in range(1, ny-1):\n",
    "                u_e = 0.5 * (U[i,j] + U[i+1,j])\n",
    "                u_w = 0.5 * (U[i,j] + U[i-1,j])\n",
    "                v_n = 0.5 * (V[i,j] + V[i,j+1])\n",
    "                v_s = 0.5 * (V[i,j] + V[i,j-1])\n",
    "                \n",
    "                F_e = rho * u_e * dy\n",
    "                F_w = rho * u_w * dy\n",
    "                F_n = rho * v_n * dx\n",
    "                F_s = rho * v_s * dx\n",
    "                \n",
    "                D_e = Gamma * dy / dx\n",
    "                D_w = Gamma * dy / dx\n",
    "                D_n = Gamma * dx / dy\n",
    "                D_s = Gamma * dx / dy\n",
    "                \n",
    "                Pe_e = F_e / D_e if D_e > 1e-12 else 0\n",
    "                Pe_w = F_w / D_w if D_w > 1e-12 else 0\n",
    "                Pe_n = F_n / D_n if D_n > 1e-12 else 0\n",
    "                Pe_s = F_s / D_s if D_s > 1e-12 else 0\n",
    "                \n",
    "                if abs(Pe_e) < Pe_threshold:\n",
    "                    a_E = D_e - 0.5 * F_e\n",
    "                else:\n",
    "                    a_E = D_e + max(0.0, -F_e)\n",
    "                \n",
    "                if abs(Pe_w) < Pe_threshold:\n",
    "                    a_W = D_w + 0.5 * F_w\n",
    "                else:\n",
    "                    a_W = D_w + max(0.0, F_w)\n",
    "                \n",
    "                if abs(Pe_n) < Pe_threshold:\n",
    "                    a_N = D_n - 0.5 * F_n\n",
    "                else:\n",
    "                    a_N = D_n + max(0.0, -F_n)\n",
    "                \n",
    "                if abs(Pe_s) < Pe_threshold:\n",
    "                    a_S = D_s + 0.5 * F_s\n",
    "                else:\n",
    "                    a_S = D_s + max(0.0, F_s)\n",
    "                \n",
    "                a_P = a_E + a_W + a_N + a_S\n",
    "                \n",
    "                residual = abs(a_E * T[i+1, j] + a_W * T[i-1, j] + \n",
    "                             a_N * T[i, j+1] + a_S * T[i, j-1] - a_P * T[i, j])\n",
    "                \n",
    "                residual_sum += residual\n",
    "                \n",
    "                flux_sum = (abs(a_E * T[i+1, j]) + abs(a_W * T[i-1, j]) + \n",
    "                           abs(a_N * T[i, j+1]) + abs(a_S * T[i, j-1]) + \n",
    "                           abs(a_P * T[i, j]))\n",
    "                flux_sum_total += flux_sum\n",
    "        \n",
    "        epsilon = residual_sum / (flux_sum_total + 1e-20)\n",
    "        epsilon_history.append(epsilon)\n",
    "        \n",
    "        if iteration % 100 == 0:\n",
    "            print(f\"Iteration {iteration:4d}: ε = {epsilon:.6e}, T ∈ [{T.min():.2f}, {T.max():.2f}]°C\")\n",
    "        \n",
    "        if epsilon < tolerance:\n",
    "            print(f\"\\nConverged at iteration {iteration}\")\n",
    "            print(f\"  Residual ε = {epsilon:.6e}\")\n",
    "            break\n",
    "\n",
    "if iteration == max_iter - 1:\n",
    "    print(f\"\\nReached maximum iterations ({max_iter})\")\n",
    "\n",
    "\n",
    "X, Y = np.meshgrid(x, y)\n",
    "fig = plt.figure(figsize=(16, 5))\n",
    "\n",
    "# Temperature contour\n",
    "ax1 = fig.add_subplot(111)\n",
    "levels = np.linspace(T.min(), T.max(), 25)\n",
    "cf = ax1.contourf(X, Y, T.T, levels=levels, cmap='hot')\n",
    "plt.colorbar(cf, ax=ax1, label='Temperature (°C)')\n",
    "\n",
    "# Add labeled contour lines\n",
    "# contours = ax1.contour(X, Y, T.T, levels=10, colors='black', alpha=0.5, linewidths=1)\n",
    "# ax1.clabel(contours, inline=True, fontsize=8, fmt='%.1f°C')  # Add labels to contours\n",
    "\n",
    "ax1.set_xlabel('x')\n",
    "ax1.set_ylabel('y')\n",
    "ax1.set_title('Temperature Distribution')\n",
    "ax1.set_aspect('equal')\n",
    "ax1.grid(True, alpha=0.3)\n",
    "\n",
    "\n",
    "# Velocity field\n",
    "# ax2 = fig.add_subplot(122)\n",
    "# skip = max(1, nx//15)\n",
    "# vel_mag = np.sqrt(U**2 + V**2)\n",
    "# cf2 = ax2.contourf(X, Y, vel_mag.T, levels=20, cmap='viridis', alpha=0.6)\n",
    "# plt.colorbar(cf2, ax=ax2, label='Velocity magnitude')\n",
    "# ax2.quiver(X[::skip,::skip], Y[::skip,::skip], \n",
    "#            U.T[::skip,::skip], V.T[::skip,::skip], alpha=0.7)\n",
    "# ax2.set_xlabel('x (m)')\n",
    "# ax2.set_ylabel('y (m)')\n",
    "# ax2.set_title('Velocity Field')\n",
    "# ax2.set_aspect('equal')\n",
    "# ax2.grid(True, alpha=0.3)"
   ]
  },
  {
   "cell_type": "code",
   "execution_count": 606,
   "id": "37e4e1e6",
   "metadata": {},
   "outputs": [],
   "source": [
    "# (0,26)  (1,26)  (2,26)  ...  (26,26)  ← Top row\n",
    "# (0,25)  (1,25)  (2,25)  ...  (26,25)\n",
    "# (0,24)  (1,24)  (2,24)  ...  (26,24)\n",
    "  \n",
    "# (0,0)   (1,0)   (2,0)   ...  (26,0)   ← Bottom row\n"
   ]
  },
  {
   "cell_type": "code",
   "execution_count": 607,
   "id": "3c65f8bf",
   "metadata": {},
   "outputs": [
    {
     "data": {
      "text/plain": [
       "23"
      ]
     },
     "execution_count": 607,
     "metadata": {},
     "output_type": "execute_result"
    }
   ],
   "source": [
    "ny-node_block"
   ]
  },
  {
   "cell_type": "code",
   "execution_count": 608,
   "id": "f3a24ed9",
   "metadata": {},
   "outputs": [
    {
     "name": "stdout",
     "output_type": "stream",
     "text": [
      "Corner temperatures:\n",
      "T[0, 0] (bottom-left): 20.00°C\n",
      "T[0, -1] (top-left): 20.00°C\n",
      "T[-1, 0] (bottom-right): 35.00°C\n",
      "T[-1, -1] (top-right): 50.00°C\n"
     ]
    }
   ],
   "source": [
    "# Print corner values to verify\n",
    "print(\"Corner temperatures:\")\n",
    "print(f\"T[0, 0] (bottom-left): {T[0, 0]:.2f}°C\")\n",
    "print(f\"T[0, -1] (top-left): {T[0, -1]:.2f}°C\")\n",
    "print(f\"T[-1, 0] (bottom-right): {T[-1, 0]:.2f}°C\")\n",
    "print(f\"T[-1, -1] (top-right): {T[-1, -1]:.2f}°C\")\n"
   ]
  },
  {
   "cell_type": "code",
   "execution_count": 609,
   "id": "a46c98a9",
   "metadata": {},
   "outputs": [
    {
     "name": "stdout",
     "output_type": "stream",
     "text": [
      "[[1 2 3]\n",
      " [4 5 6]\n",
      " [7 8 9]]\n"
     ]
    },
    {
     "data": {
      "text/plain": [
       "array([[5, 6],\n",
       "       [8, 9]])"
      ]
     },
     "execution_count": 609,
     "metadata": {},
     "output_type": "execute_result"
    }
   ],
   "source": [
    "pp = np.array([[1,2,3], [4,5,6], [7,8,9]])\n",
    "print(pp)\n",
    "pp[1:,1:]"
   ]
  },
  {
   "cell_type": "code",
   "execution_count": 610,
   "id": "e87b0357",
   "metadata": {},
   "outputs": [
    {
     "data": {
      "image/png": "[encoded data removed]",
      "text/plain": [
       "<Figure size 640x480 with 1 Axes>"
      ]
     },
     "metadata": {},
     "output_type": "display_data"
    }
   ],
   "source": [
    "a = 10\n",
    "b = 253\n",
    "plt.plot(range(len(epsilon_history))[a:b], epsilon_history[a:b])\n",
    "plt.title(\"Convergence history\")\n",
    "plt.xlabel(\"itteration\")\n",
    "plt.ylabel(\"error\")\n",
    "plt.show()"
   ]
  },
  {
   "cell_type": "code",
   "execution_count": null,
   "id": "547b5dd1",
   "metadata": {},
   "outputs": [],
   "source": []
  },
  {
   "cell_type": "code",
   "execution_count": null,
   "id": "8756c8e3",
   "metadata": {},
   "outputs": [],
   "source": []
  },
  {
   "cell_type": "code",
   "execution_count": 611,
   "id": "8232fe93",
   "metadata": {},
   "outputs": [
    {
     "data": {
      "image/png": "[encoded data removed]",
      "text/plain": [
       "<Figure size 600x600 with 1 Axes>"
      ]
     },
     "metadata": {},
     "output_type": "display_data"
    }
   ],
   "source": [
    "Pe_array = np.array(Pe_history)\n",
    "n = int(len(Pe_array)**0.5)\n",
    "Pe_grid = Pe_array.reshape((n, n))\n",
    "\n",
    "# Apply threshold\n",
    "threshold = Pe_threshold\n",
    "binary_grid = (Pe_grid >= threshold).astype(int)\n",
    "\n",
    "# Plot\n",
    "plt.figure(figsize=(6, 6))\n",
    "plt.imshow(binary_grid, cmap='gray', origin='lower')\n",
    "plt.title(f'Global Peclet Threshold Map (Pe ≥ {threshold} shown in black)')\n",
    "plt.xlabel('x index')\n",
    "plt.ylabel('y index')\n",
    "\n",
    "# Optional gridlines for better visibility\n",
    "plt.grid(False)\n",
    "plt.show()"
   ]
  }
 ],
 "metadata": {
  "kernelspec": {
   "display_name": "Python 3",
   "language": "python",
   "name": "python3"
  },
  "language_info": {
   "codemirror_mode": {
    "name": "ipython",
    "version": 3
   },
   "file_extension": ".py",
   "mimetype": "text/x-python",
   "name": "python",
   "nbconvert_exporter": "python",
   "pygments_lexer": "ipython3",
   "version": "3.11.5"
  }
 },
 "nbformat": 4,
 "nbformat_minor": 5
}
