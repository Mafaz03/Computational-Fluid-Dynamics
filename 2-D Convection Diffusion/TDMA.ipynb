{
 "cells": [
  {
   "cell_type": "code",
   "execution_count": null,
   "id": "4c71becc",
   "metadata": {},
   "outputs": [],
   "source": [
    "import numpy as np\n",
    "\n",
    "def TDMA(aW_or_aS, aP, aE_or_aN, b):\n",
    "    \"\"\"\n",
    "    we need ot assume that we know 2 points, ie norht and south OR east and west\n",
    "    \"\"\"\n",
    "    n = len(b)\n",
    "    \n",
    "    # Temporary arrays\n",
    "    P = np.zeros(n)\n",
    "    Q = np.zeros(n)\n",
    "    phi = np.zeros(n)\n",
    "    \n",
    "    # Forward elimination\n",
    "    P[0] = aE_or_aN[0] / aP[0]\n",
    "    Q[0] = b[0] / aP[0]\n",
    "\n",
    "    for i in range(1, n):\n",
    "        denom = aP[i] - aW_or_aS[i] * P[i-1]\n",
    "        P[i] = aE_or_aN[i] / denom\n",
    "        Q[i] = (b[i] + aW_or_aS[i] * Q[i-1]) / denom\n",
    "\n",
    "    # Back substitution\n",
    "    phi[-1] = Q[-1]\n",
    "    for i in range(n-2, -1, -1):\n",
    "        phi[i] = P[i] * phi[i+1] + Q[i]\n",
    "    \n",
    "    return phi\n"
   ]
  },
  {
   "cell_type": "code",
   "execution_count": 12,
   "id": "ea64fc91",
   "metadata": {},
   "outputs": [
    {
     "name": "stdout",
     "output_type": "stream",
     "text": [
      "TDMA solution: [1.28333333 1.41666667 1.3        1.08333333 0.61666667]\n",
      "NumPy solution: [1.28333333 1.41666667 1.3        1.08333333 0.61666667]\n"
     ]
    }
   ],
   "source": [
    "# Example tridiagonal system\n",
    "A = np.array([\n",
    "    [10, -2,  0,  0,  0],\n",
    "    [-2, 10, -2,  0,  0],\n",
    "    [ 0, -2, 10, -2,  0],\n",
    "    [ 0,  0, -2, 10, -2],\n",
    "    [ 0,  0,  0, -2, 10]\n",
    "], dtype=float)\n",
    "\n",
    "B = np.array([10, 9, 8, 7, 4], dtype=float)\n",
    "\n",
    "# Extract tridiagonal parts\n",
    "aW = np.zeros(5)\n",
    "aP = np.zeros(5)\n",
    "aE = np.zeros(5)\n",
    "\n",
    "for i in range(5):\n",
    "    aP[i] = A[i, i]\n",
    "    if i > 0:\n",
    "        aW[i] = -A[i, i-1]\n",
    "    if i < 4:\n",
    "        aE[i] = -A[i, i+1]\n",
    "\n",
    "# Solve using TDMA\n",
    "phi = TDMA(aW, aP, aE, B)\n",
    "print(\"TDMA solution:\", phi)\n",
    "\n",
    "# Verify with numpy built-in\n",
    "phi_check = np.linalg.solve(A, B)\n",
    "print(\"NumPy solution:\", phi_check)\n"
   ]
  },
  {
   "cell_type": "code",
   "execution_count": null,
   "id": "e22aa5b9",
   "metadata": {},
   "outputs": [],
   "source": []
  },
  {
   "cell_type": "code",
   "execution_count": null,
   "id": "5accc022",
   "metadata": {},
   "outputs": [],
   "source": []
  },
  {
   "cell_type": "code",
   "execution_count": null,
   "id": "48a6db20",
   "metadata": {},
   "outputs": [],
   "source": []
  },
  {
   "cell_type": "code",
   "execution_count": null,
   "id": "084c64d2",
   "metadata": {},
   "outputs": [],
   "source": []
  }
 ],
 "metadata": {
  "kernelspec": {
   "display_name": "Python 3",
   "language": "python",
   "name": "python3"
  },
  "language_info": {
   "codemirror_mode": {
    "name": "ipython",
    "version": 3
   },
   "file_extension": ".py",
   "mimetype": "text/x-python",
   "name": "python",
   "nbconvert_exporter": "python",
   "pygments_lexer": "ipython3",
   "version": "3.11.5"
  }
 },
 "nbformat": 4,
 "nbformat_minor": 5
}
