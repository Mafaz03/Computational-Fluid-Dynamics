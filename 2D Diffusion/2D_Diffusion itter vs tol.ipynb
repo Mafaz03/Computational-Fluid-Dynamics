{
 "cells": [
  {
   "cell_type": "code",
   "execution_count": 1,
   "id": "4d1b2c58",
   "metadata": {},
   "outputs": [],
   "source": [
    "import numpy as np\n",
    "import matplotlib.pyplot as plt\n",
    "from helper import *\n",
    "from helper import linear_to_flipped_coords, find_neighbors\n",
    "from gauss_sadel import Gauss_Sadel\n",
    "from tqdm import tqdm\n",
    "\n",
    "## Inputs ###################\n",
    "\n",
    "dx = 0.05\n",
    "dy = 0.025\n",
    "\n",
    "Lx = 1\n",
    "Ly = 0.5\n",
    "\n",
    "num_nodes_x = int(Lx / dx)\n",
    "num_nodes_y = int(Ly / dy)\n",
    "\n",
    "# For equidistant change it to 0, 0\n",
    "x_percentage = 0 # reduce by {x_percentage}%\n",
    "y_percentage = 0 # reduce by {y_percentage}%\n",
    "\n",
    "index_x = 0\n",
    "index_y = -1\n",
    "\n",
    "### Boundary Conditions\n",
    "# T South : Temperature | 15\n",
    "# T East  : Flux        | 5000\n",
    "# T North : Temperature | 10\n",
    "# T West  : Insulated   | \n",
    "\n",
    "q_E       = 5000  # uniform heat generation\n",
    "\n",
    "T_N       = 10 # North Side\n",
    "T_S       = 15\n",
    "\n",
    "H = 0.5\n",
    "\n",
    "##############################\n",
    "\n",
    "class node:\n",
    "    def __init__(self):\n",
    "\n",
    "        self.idx = None # Idx starts with 1 (i messed up)\n",
    "        self.node_pos = None\n",
    "        self.Cell_size_x = 5\n",
    "        self.Cell_size_y = 5\n",
    "        self.grid_face = None\n",
    "        self.node_type = None \n",
    "\n",
    "        self.Gx = None # Location along the x axis\n",
    "        self.Gy = None # Location along the y axis\n",
    "\n",
    "        self.edge_color = \"blue\"\n",
    "\n",
    "        self.edge_node_pos = []\n",
    "        #    1\n",
    "        # 0|   | 2\n",
    "        #    3\n",
    "\n",
    "        self.del_xe = None\n",
    "        self.del_xn = None\n",
    "        self.del_xw = None\n",
    "        self.del_xs = None\n",
    "\n",
    "# Initializing empty mesh\n",
    "mesh = np.array([[node() for x in range(num_nodes_x)] for y in range(num_nodes_y)])\n",
    "\n",
    "# Equidistant mesh gets created here\n",
    "x_val = 0\n",
    "y_val = 0\n",
    "\n",
    "# the origin of the x and y axis is on the bottom left\n",
    "idx = 0\n",
    "for y in range(mesh.shape[0]):\n",
    "    for x in range(mesh.shape[1]):\n",
    "        cell = mesh[y][x]\n",
    "        cell.idx = idx\n",
    "        cell.Gx = x_val\n",
    "        cell.Gy = y_val\n",
    "\n",
    "        if y == 0: cell.edge_node_pos.append(3)\n",
    "        if x == 0: cell.edge_node_pos.append(0)\n",
    "        if x == (Ly/dy) - 1 : cell.edge_node_pos.append(2)\n",
    "        if y == (Lx/dx) - 1 : cell.edge_node_pos.append(1)\n",
    "\n",
    "        x_val += cell.Cell_size_x\n",
    "        idx += 1\n",
    "    x_val = 0\n",
    "    y_val += cell.Cell_size_y\n",
    "\n",
    "def strech_mesh(mesh: np.array, x_percentage, y_percentage, strech_function, index_x, index_y):\n",
    "    if x_percentage == 0 and y_percentage == 0: # Edge case\n",
    "        return mesh\n",
    "    \n",
    "    # Stretch in x\n",
    "    if x_percentage != 0:\n",
    "        for y in range(mesh.shape[0]):\n",
    "            x_array_size = [mesh[y][x].Cell_size_x for x in range(mesh.shape[1])]\n",
    "            stretched_array_size = strech_function(x_array_size, index_x, x_percentage)\n",
    "            for x in range(mesh.shape[1]):\n",
    "                mesh[y][x].Cell_size_x = stretched_array_size[x]\n",
    "\n",
    "    # Stretch in y\n",
    "    if y_percentage != 0:\n",
    "        for x in range(mesh.shape[1]):\n",
    "            y_array_size = [mesh[y][x].Cell_size_y for y in range(mesh.shape[0])]\n",
    "            stretched_array_size = strech_function(y_array_size, index_y, y_percentage)\n",
    "            for y in range(mesh.shape[0]):\n",
    "                mesh[y][x].Cell_size_y = stretched_array_size[y]\n",
    "\n",
    "    # Recompute coordinates AFTER both\n",
    "    y_val = 0\n",
    "    for y in range(mesh.shape[0]):\n",
    "        x_val = 0\n",
    "        for x in range(mesh.shape[1]):\n",
    "            mesh[y][x].Gx = x_val\n",
    "            mesh[y][x].Gy = y_val\n",
    "            x_val += mesh[y][x].Cell_size_x\n",
    "        y_val += mesh[y][0].Cell_size_y\n",
    "\n",
    "    return mesh \n",
    "\n",
    "mesh = strech_mesh(mesh, x_percentage, y_percentage, strech_function = degrade_percentage, index_x=index_x, index_y=index_y)   \n"
   ]
  },
  {
   "cell_type": "code",
   "execution_count": 2,
   "id": "7ba06ceb",
   "metadata": {},
   "outputs": [
    {
     "data": {
      "text/plain": [
       "(20, 20)"
      ]
     },
     "execution_count": 2,
     "metadata": {},
     "output_type": "execute_result"
    }
   ],
   "source": [
    "mesh.shape"
   ]
  },
  {
   "cell_type": "code",
   "execution_count": 3,
   "id": "0ec83ced",
   "metadata": {},
   "outputs": [],
   "source": [
    "for y in range(num_nodes_y):\n",
    "    for x in range(num_nodes_x):\n",
    "\n",
    "        cell = mesh[y][x]\n",
    "        if y == 0:\n",
    "            cell.del_xn = cell.Cell_size_y/2\n",
    "            cell.del_xs = mesh[y][x].Cell_size_y/2 + mesh[y+1][x].Cell_size_y/2\n",
    "            if x == 0:\n",
    "                cell.del_xw = cell.Cell_size_x/2\n",
    "                cell.del_xe = mesh[y][x].Cell_size_x/2 + mesh[y][x+1].Cell_size_x/2\n",
    "\n",
    "            elif x == len(mesh[0])-1:\n",
    "                cell.del_xe = cell.Cell_size_x/2  \n",
    "                cell.del_xw = mesh[y][x].Cell_size_x/2 + mesh[y][x-1].Cell_size_x/2\n",
    "            \n",
    "            else: # non edge case \n",
    "                cell.del_xw = mesh[y][x].Cell_size_x/2 + mesh[y][x-1].Cell_size_x/2   \n",
    "                cell.del_xe = mesh[y][x].Cell_size_x/2 + mesh[y][x+1].Cell_size_x/2\n",
    "\n",
    "        if y == mesh.shape[0]-1:\n",
    "            cell.del_xs = cell.Cell_size_y/2 \n",
    "            cell.del_xn = mesh[y][x].Cell_size_y/2 + mesh[y-1][x].Cell_size_y/2\n",
    "\n",
    "            if x == 0:\n",
    "                cell.del_xw = cell.Cell_size_x/2\n",
    "                cell.del_xe = mesh[y][x].Cell_size_x/2 + mesh[y][x+1].Cell_size_x/2\n",
    "           \n",
    "            elif x == len(mesh[0])-1:\n",
    "                cell.del_xe = cell.Cell_size_x/2  \n",
    "                cell.del_xw = mesh[y][x].Cell_size_x/2 + mesh[y][x-1].Cell_size_x/2\n",
    "            \n",
    "            else: # non edge case \n",
    "                cell.del_xw = mesh[y][x].Cell_size_x/2 + mesh[y][x-1].Cell_size_x/2   \n",
    "                cell.del_xe = mesh[y][x].Cell_size_x/2 + mesh[y][x+1].Cell_size_x/2\n",
    "\n",
    "        else:\n",
    "            cell.del_xn = mesh[y][x].Cell_size_y/2 + mesh[y-1][x].Cell_size_y/2   \n",
    "            cell.del_xs = mesh[y][x].Cell_size_y/2 + mesh[y+1][x].Cell_size_y/2   \n",
    "            if x == 0:\n",
    "                cell.del_xw = cell.Cell_size_x/2\n",
    "                cell.del_xe = mesh[y][x].Cell_size_x/2 + mesh[y][x+1].Cell_size_x/2\n",
    "\n",
    "            elif x == mesh.shape[1]-1:\n",
    "                cell.del_xe = cell.Cell_size_x/2\n",
    "                cell.del_xw = mesh[y][x].Cell_size_x/2 + mesh[y][x-1].Cell_size_x/2   \n",
    "                \n",
    "            else: # non edge case \n",
    "                cell.del_xw = mesh[y][x].Cell_size_x/2 + mesh[y][x-1].Cell_size_x/2   \n",
    "                cell.del_xe = mesh[y][x].Cell_size_x/2 + mesh[y][x+1].Cell_size_x/2    "
   ]
  },
  {
   "cell_type": "code",
   "execution_count": 4,
   "id": "0b8fdcc9",
   "metadata": {},
   "outputs": [],
   "source": [
    "delta_x = [] # size of the cell in x direction\n",
    "delta_y = [] # size of the cell in y direction\n",
    "\n",
    "for y in range(len(mesh)):\n",
    "    delta_x_temp = []\n",
    "    delta_y_temp = []\n",
    "    for x in range(len(mesh[0])):\n",
    "        cell = mesh[y][x]\n",
    "        delta_x_temp.append(cell.Cell_size_x)\n",
    "        delta_y_temp.append(cell.Cell_size_y)\n",
    "    delta_x.append(delta_x_temp)\n",
    "    delta_y.append(delta_x_temp)"
   ]
  },
  {
   "cell_type": "code",
   "execution_count": 5,
   "id": "afd3b2f3",
   "metadata": {},
   "outputs": [],
   "source": [
    "# plot_mesh(mesh, Ly, Lx)"
   ]
  },
  {
   "cell_type": "code",
   "execution_count": 6,
   "id": "186dfee0",
   "metadata": {},
   "outputs": [],
   "source": [
    "nodes = []\n",
    "n = 1\n",
    "for i in range(int(num_nodes_x)):\n",
    "    l = []\n",
    "    for j in range(int(num_nodes_y)):\n",
    "        l.append(n)\n",
    "        n+=1\n",
    "    nodes.append(l)\n",
    "\n",
    "# nodes = nodes[::-1]\n",
    "nodes = np.fliplr(np.array(nodes)).transpose()\n",
    "nodes = np.array(nodes)\n",
    "\n",
    "for i in range(int(num_nodes_y)):\n",
    "    for j in range(int(num_nodes_x)):\n",
    "        mesh[i][j].idx = nodes[i][j]"
   ]
  },
  {
   "cell_type": "code",
   "execution_count": 7,
   "id": "67952784",
   "metadata": {},
   "outputs": [
    {
     "data": {
      "text/plain": [
       "(400, 400)"
      ]
     },
     "execution_count": 7,
     "metadata": {},
     "output_type": "execute_result"
    }
   ],
   "source": [
    "coef_matrix = np.zeros((num_nodes_y*num_nodes_x, num_nodes_y*num_nodes_x))\n",
    "Su_vector = np.zeros_like(coef_matrix[:,0])\n",
    "coef_matrix.shape"
   ]
  },
  {
   "cell_type": "code",
   "execution_count": 8,
   "id": "3d95adaa",
   "metadata": {},
   "outputs": [
    {
     "data": {
      "text/plain": [
       "array([1.000000e-01, 7.500025e-02, 5.000050e-02, 2.500075e-02,\n",
       "       1.000000e-06])"
      ]
     },
     "execution_count": 8,
     "metadata": {},
     "output_type": "execute_result"
    }
   ],
   "source": [
    "np.linspace(0.1, 1e-6, 5)"
   ]
  },
  {
   "cell_type": "code",
   "execution_count": 9,
   "id": "470676ba",
   "metadata": {},
   "outputs": [
    {
     "name": "stdout",
     "output_type": "stream",
     "text": [
      "0\n"
     ]
    },
    {
     "name": "stderr",
     "output_type": "stream",
     "text": [
      "100%|██████████| 50/50 [00:02<00:00, 23.27it/s]\n"
     ]
    },
    {
     "name": "stdout",
     "output_type": "stream",
     "text": [
      "137.515328024152\n",
      "1\n"
     ]
    },
    {
     "name": "stderr",
     "output_type": "stream",
     "text": [
      "100%|██████████| 50/50 [00:02<00:00, 17.63it/s]\n"
     ]
    },
    {
     "name": "stdout",
     "output_type": "stream",
     "text": [
      "55.924234622943175\n",
      "2\n"
     ]
    },
    {
     "name": "stderr",
     "output_type": "stream",
     "text": [
      "100%|██████████| 50/50 [00:02<00:00, 24.58it/s]\n"
     ]
    },
    {
     "name": "stdout",
     "output_type": "stream",
     "text": [
      "0.5862769607315981\n",
      "3\n"
     ]
    },
    {
     "name": "stderr",
     "output_type": "stream",
     "text": [
      "100%|██████████| 50/50 [00:02<00:00, 24.47it/s]\n"
     ]
    },
    {
     "name": "stdout",
     "output_type": "stream",
     "text": [
      "0.061788756634006736\n",
      "Converged in 4 outer iterations.\n",
      "0\n"
     ]
    },
    {
     "name": "stderr",
     "output_type": "stream",
     "text": [
      "100%|██████████| 50/50 [00:01<00:00, 25.12it/s]\n"
     ]
    },
    {
     "name": "stdout",
     "output_type": "stream",
     "text": [
      "137.515328024152\n",
      "1\n"
     ]
    },
    {
     "name": "stderr",
     "output_type": "stream",
     "text": [
      "100%|██████████| 50/50 [00:02<00:00, 24.65it/s]\n"
     ]
    },
    {
     "name": "stdout",
     "output_type": "stream",
     "text": [
      "55.924234622943175\n",
      "2\n"
     ]
    },
    {
     "name": "stderr",
     "output_type": "stream",
     "text": [
      "100%|██████████| 50/50 [00:02<00:00, 24.51it/s]\n"
     ]
    },
    {
     "name": "stdout",
     "output_type": "stream",
     "text": [
      "0.5862769607315981\n",
      "3\n"
     ]
    },
    {
     "name": "stderr",
     "output_type": "stream",
     "text": [
      "100%|██████████| 50/50 [00:02<00:00, 23.85it/s]\n"
     ]
    },
    {
     "name": "stdout",
     "output_type": "stream",
     "text": [
      "0.061788756634006736\n",
      "Converged in 4 outer iterations.\n",
      "0\n"
     ]
    },
    {
     "name": "stderr",
     "output_type": "stream",
     "text": [
      "100%|██████████| 50/50 [00:02<00:00, 24.88it/s]\n"
     ]
    },
    {
     "name": "stdout",
     "output_type": "stream",
     "text": [
      "137.515328024152\n",
      "1\n"
     ]
    },
    {
     "name": "stderr",
     "output_type": "stream",
     "text": [
      "100%|██████████| 50/50 [00:02<00:00, 24.90it/s]\n"
     ]
    },
    {
     "name": "stdout",
     "output_type": "stream",
     "text": [
      "55.924234622943175\n",
      "2\n"
     ]
    },
    {
     "name": "stderr",
     "output_type": "stream",
     "text": [
      "100%|██████████| 50/50 [00:02<00:00, 24.54it/s]\n"
     ]
    },
    {
     "name": "stdout",
     "output_type": "stream",
     "text": [
      "0.5862769607315981\n",
      "3\n"
     ]
    },
    {
     "name": "stderr",
     "output_type": "stream",
     "text": [
      "100%|██████████| 50/50 [00:02<00:00, 24.50it/s]\n"
     ]
    },
    {
     "name": "stdout",
     "output_type": "stream",
     "text": [
      "0.061788756634006736\n",
      "4\n"
     ]
    },
    {
     "name": "stderr",
     "output_type": "stream",
     "text": [
      "100%|██████████| 50/50 [00:02<00:00, 24.91it/s]\n"
     ]
    },
    {
     "name": "stdout",
     "output_type": "stream",
     "text": [
      "0.016931018395557773\n",
      "Converged in 5 outer iterations.\n",
      "0\n"
     ]
    },
    {
     "name": "stderr",
     "output_type": "stream",
     "text": [
      "100%|██████████| 50/50 [00:01<00:00, 25.01it/s]\n"
     ]
    },
    {
     "name": "stdout",
     "output_type": "stream",
     "text": [
      "137.515328024152\n",
      "1\n"
     ]
    },
    {
     "name": "stderr",
     "output_type": "stream",
     "text": [
      "100%|██████████| 50/50 [00:02<00:00, 24.61it/s]\n"
     ]
    },
    {
     "name": "stdout",
     "output_type": "stream",
     "text": [
      "55.924234622943175\n",
      "2\n"
     ]
    },
    {
     "name": "stderr",
     "output_type": "stream",
     "text": [
      "100%|██████████| 50/50 [00:02<00:00, 23.79it/s]\n"
     ]
    },
    {
     "name": "stdout",
     "output_type": "stream",
     "text": [
      "0.5862769607315981\n",
      "3\n"
     ]
    },
    {
     "name": "stderr",
     "output_type": "stream",
     "text": [
      "100%|██████████| 50/50 [00:02<00:00, 24.56it/s]\n"
     ]
    },
    {
     "name": "stdout",
     "output_type": "stream",
     "text": [
      "0.061788756634006736\n",
      "4\n"
     ]
    },
    {
     "name": "stderr",
     "output_type": "stream",
     "text": [
      "100%|██████████| 50/50 [00:02<00:00, 24.88it/s]\n"
     ]
    },
    {
     "name": "stdout",
     "output_type": "stream",
     "text": [
      "0.016931018395557773\n",
      "Converged in 5 outer iterations.\n",
      "0\n"
     ]
    },
    {
     "name": "stderr",
     "output_type": "stream",
     "text": [
      "100%|██████████| 50/50 [00:01<00:00, 25.41it/s]\n"
     ]
    },
    {
     "name": "stdout",
     "output_type": "stream",
     "text": [
      "137.515328024152\n",
      "1\n"
     ]
    },
    {
     "name": "stderr",
     "output_type": "stream",
     "text": [
      "100%|██████████| 50/50 [00:02<00:00, 24.69it/s]\n"
     ]
    },
    {
     "name": "stdout",
     "output_type": "stream",
     "text": [
      "55.924234622943175\n",
      "2\n"
     ]
    },
    {
     "name": "stderr",
     "output_type": "stream",
     "text": [
      "100%|██████████| 50/50 [00:02<00:00, 24.89it/s]\n"
     ]
    },
    {
     "name": "stdout",
     "output_type": "stream",
     "text": [
      "0.5862769607315981\n",
      "3\n"
     ]
    },
    {
     "name": "stderr",
     "output_type": "stream",
     "text": [
      "100%|██████████| 50/50 [00:01<00:00, 25.03it/s]\n"
     ]
    },
    {
     "name": "stdout",
     "output_type": "stream",
     "text": [
      "0.061788756634006736\n",
      "4\n"
     ]
    },
    {
     "name": "stderr",
     "output_type": "stream",
     "text": [
      "100%|██████████| 50/50 [00:02<00:00, 25.00it/s]\n"
     ]
    },
    {
     "name": "stdout",
     "output_type": "stream",
     "text": [
      "0.016931018395557773\n",
      "5\n"
     ]
    },
    {
     "name": "stderr",
     "output_type": "stream",
     "text": [
      "100%|██████████| 50/50 [00:02<00:00, 24.72it/s]\n"
     ]
    },
    {
     "name": "stdout",
     "output_type": "stream",
     "text": [
      "0.004670301557197831\n",
      "6\n"
     ]
    },
    {
     "name": "stderr",
     "output_type": "stream",
     "text": [
      "100%|██████████| 50/50 [00:02<00:00, 24.79it/s]\n"
     ]
    },
    {
     "name": "stdout",
     "output_type": "stream",
     "text": [
      "0.0013521627537704806\n",
      "7\n"
     ]
    },
    {
     "name": "stderr",
     "output_type": "stream",
     "text": [
      "100%|██████████| 50/50 [00:01<00:00, 25.64it/s]\n"
     ]
    },
    {
     "name": "stdout",
     "output_type": "stream",
     "text": [
      "0.0004038507023865767\n",
      "8\n"
     ]
    },
    {
     "name": "stderr",
     "output_type": "stream",
     "text": [
      "100%|██████████| 50/50 [00:01<00:00, 25.06it/s]\n"
     ]
    },
    {
     "name": "stdout",
     "output_type": "stream",
     "text": [
      "0.00012242867109796274\n",
      "9\n"
     ]
    },
    {
     "name": "stderr",
     "output_type": "stream",
     "text": [
      "100%|██████████| 50/50 [00:02<00:00, 24.43it/s]"
     ]
    },
    {
     "name": "stdout",
     "output_type": "stream",
     "text": [
      "3.735772751700672e-05\n",
      "Converged in 10 outer iterations.\n"
     ]
    },
    {
     "name": "stderr",
     "output_type": "stream",
     "text": [
      "\n"
     ]
    }
   ],
   "source": [
    "# coef_matrix = np.zeros((num_nodes_y*num_nodes_x, num_nodes_y*num_nodes_x))\n",
    "# Su_vector = np.zeros_like(coef_matrix[:,0])\n",
    "# coef_matrix.shape\n",
    "\n",
    "T_old = np.ones(num_nodes_x * num_nodes_y)  # initial guess\n",
    "\n",
    "tolerance = 0.1\n",
    "max_iterations = 500\n",
    "\n",
    "residue = []\n",
    "itterations = []\n",
    "\n",
    "tolerances = np.linspace(0.1, 1e-4, 5)\n",
    "for t in tolerances:\n",
    "    coef_matrix = np.zeros((num_nodes_y*num_nodes_x, num_nodes_y*num_nodes_x))\n",
    "    Su_vector = np.zeros_like(coef_matrix[:,0])\n",
    "    T_old = np.ones(num_nodes_x * num_nodes_y)  # initial guess\n",
    "    \n",
    "    for iteration in range(max_iterations):\n",
    "        print(iteration)\n",
    "        for node_idx in range(num_nodes_x * num_nodes_y):\n",
    "            # print(f\"Processing node {node_idx}\")\n",
    "            cell_x, cell_y = linear_to_flipped_coords(node_idx, num_nodes_y)\n",
    "            cell_x, cell_y = int(cell_x), int(cell_y)\n",
    "\n",
    "            # For mesh[y][x] indexing\n",
    "            cell = mesh[cell_x][cell_y]\n",
    "            # print(f\"Coordinates: ({cell_x}, {cell_y})\")\n",
    "\n",
    "            nei_dict = find_neighbors(nodes, cell_x, cell_y, num_nodes_x, num_nodes_y)\n",
    "            # print(f\"Neighbors: {nei_dict}\")\n",
    "\n",
    "            # Initialize coefficients\n",
    "            a_N = a_S = a_E = a_W = 0\n",
    "            Su = 0\n",
    "\n",
    "            # -----------------------------\n",
    "            k_cell = 16 * ((cell.Gy + (cell.Cell_size_y/2)) / H + 1)\n",
    "            Sp = (1.5 * cell.Cell_size_x * cell.Cell_size_y) / T_old[node_idx] if T_old[node_idx] > 0.1 else 1\n",
    "            Su = 0\n",
    "            # Su += Sp * T_old[node_idx]\n",
    "            # -----------------------------\n",
    "\n",
    "            # +++++++ SOUTH boundary: Dirichlet T=15 +++++++\n",
    "            if nei_dict['south'] is None and nei_dict['east'] is not None and nei_dict['west'] is not None:\n",
    "                a_E = (k_cell * cell.Cell_size_y) / cell.del_xe\n",
    "                a_N = (k_cell * cell.Cell_size_x) / cell.del_xn    \n",
    "                a_W = (k_cell * cell.Cell_size_y) / cell.del_xw\n",
    "                a_S = (k_cell * cell.Cell_size_x) / cell.del_xs   # half-cell treatment\n",
    "\n",
    "                a_P = a_E + a_N + a_S + a_W + Sp\n",
    "                Su += a_S * T_S\n",
    "\n",
    "                coef_matrix[node_idx, node_idx] = a_P\n",
    "                coef_matrix[node_idx, nei_dict['east'] - 1] = a_E\n",
    "                coef_matrix[node_idx, nei_dict['north'] - 1] = a_N\n",
    "                coef_matrix[node_idx, nei_dict['west'] - 1] = a_W\n",
    "\n",
    "            # +++++++ NORTH boundary: Dirichlet T=10 +++++++\n",
    "            elif nei_dict['north'] is None and nei_dict['east'] is not None and nei_dict['west'] is not None:\n",
    "                a_E = (k_cell * cell.Cell_size_y) / cell.del_xe\n",
    "                a_S = (k_cell * cell.Cell_size_x) / cell.del_xs\n",
    "                a_W = (k_cell * cell.Cell_size_y) / cell.del_xw\n",
    "                a_N = (k_cell * cell.Cell_size_x) / cell.del_xn  # half-cell treatment\n",
    "\n",
    "                a_P = a_E + a_N + a_S + a_W + Sp\n",
    "                Su += a_N * T_N\n",
    "\n",
    "                coef_matrix[node_idx, node_idx] = a_P\n",
    "                coef_matrix[node_idx, nei_dict['east'] - 1] = a_E\n",
    "                coef_matrix[node_idx, nei_dict['south'] - 1] = a_S\n",
    "                coef_matrix[node_idx, nei_dict['west'] - 1] = a_W\n",
    "\n",
    "            # +++++++ EAST boundary: Neumann flux q=5000 +++++++\n",
    "            elif nei_dict['east'] is None:\n",
    "                a_N = (k_cell * cell.Cell_size_x) / cell.del_xn if nei_dict['north'] is None else (k_cell * cell.Cell_size_x) / cell.del_xn\n",
    "                a_S = (k_cell * cell.Cell_size_x) / cell.del_xs if nei_dict['south'] is None else (k_cell * cell.Cell_size_x) / cell.del_xs\n",
    "                a_W = (k_cell * cell.Cell_size_y) / cell.del_xw if nei_dict['west'] is not None else 0\n",
    "\n",
    "                # Add Dirichlet contribution for top-right / bottom-right corners\n",
    "                if nei_dict['north'] is None:\n",
    "                    Su += a_N * T_N\n",
    "                if nei_dict['south'] is None:\n",
    "                    Su += a_S * T_S\n",
    "\n",
    "                # Neumann flux contribution\n",
    "                Su += -q_E * cell.Cell_size_y\n",
    "\n",
    "                a_P = a_N + a_S + a_W + Sp  # no east neighbor\n",
    "\n",
    "                coef_matrix[node_idx, node_idx] = a_P\n",
    "                if nei_dict['north'] is not None:\n",
    "                    coef_matrix[node_idx, nei_dict['north'] - 1] = a_N\n",
    "                if nei_dict['south'] is not None:\n",
    "                    coef_matrix[node_idx, nei_dict['south'] - 1] = a_S\n",
    "                if nei_dict['west'] is not None:\n",
    "                    coef_matrix[node_idx, nei_dict['west'] - 1] = a_W\n",
    "\n",
    "            # +++++++ WEST boundary: Insulated +++++++\n",
    "            elif nei_dict['west'] is None:\n",
    "                if nei_dict['north'] is None:\n",
    "                    # top-left\n",
    "                    a_N = (k_cell * cell.Cell_size_x) / cell.del_xn # half-cell treatment\n",
    "                    a_S = (k_cell * cell.Cell_size_x) / cell.del_xs\n",
    "                    a_E = (k_cell * cell.Cell_size_y) / cell.del_xe\n",
    "                \n",
    "                    Su += a_N * T_N\n",
    "\n",
    "                elif nei_dict['south'] is None:\n",
    "                    # bottom-left\n",
    "                    a_N = (k_cell * cell.Cell_size_x) / cell.del_xn\n",
    "                    a_S = (k_cell * cell.Cell_size_x) / cell.del_xs # half-cell treatment\n",
    "                    a_E = (k_cell * cell.Cell_size_y) / cell.del_xe\n",
    "                    Su += a_S * T_S\n",
    "\n",
    "                else:\n",
    "                    # middle of west boundary\n",
    "                    a_N = (k_cell * cell.Cell_size_x) / cell.del_xn\n",
    "                    a_S = (k_cell * cell.Cell_size_x) / cell.del_xs\n",
    "                    a_E = (k_cell * cell.Cell_size_y) / cell.del_xe\n",
    "\n",
    "                a_W = 0  # insulated\n",
    "                a_P = a_E + a_N + a_S + Sp\n",
    "\n",
    "                coef_matrix[node_idx, node_idx] = a_P\n",
    "                if nei_dict['north'] is not None:\n",
    "                    coef_matrix[node_idx, nei_dict['north'] - 1] = a_N\n",
    "                if nei_dict['south'] is not None:\n",
    "                    coef_matrix[node_idx, nei_dict['south'] - 1] = a_S\n",
    "                coef_matrix[node_idx, nei_dict['east'] - 1] = a_E\n",
    "\n",
    "            # +++++++ INTERIOR node +++++++\n",
    "            else:\n",
    "                if nei_dict['north'] is not None:\n",
    "                    a_N = (k_cell * cell.Cell_size_x) / cell.del_xn\n",
    "                    coef_matrix[node_idx, nei_dict['north'] - 1] = a_N\n",
    "                if nei_dict['south'] is not None:\n",
    "                    a_S = (k_cell * cell.Cell_size_x) / cell.del_xs\n",
    "                    coef_matrix[node_idx, nei_dict['south'] - 1] = a_S\n",
    "                if nei_dict['east'] is not None:\n",
    "                    a_E = (k_cell * cell.Cell_size_y) / cell.del_xe\n",
    "                    coef_matrix[node_idx, nei_dict['east'] - 1] = a_E\n",
    "                if nei_dict['west'] is not None:\n",
    "                    a_W = (k_cell * cell.Cell_size_y) / cell.del_xw\n",
    "                    coef_matrix[node_idx, nei_dict['west'] - 1] = a_W\n",
    "\n",
    "                a_P = a_E + a_N + a_S + a_W + Sp\n",
    "                coef_matrix[node_idx, node_idx] = a_P\n",
    "\n",
    "            # +++++++ Update source vector +++++++\n",
    "            Su_vector[node_idx] = Su\n",
    "            # print(a_P, end=\"\\n\\n\")\n",
    "\n",
    "\n",
    "        # Making non diagnol element negetive\n",
    "        mask = ~np.eye(coef_matrix.shape[0], dtype=bool)\n",
    "        coef_matrix[mask] = -coef_matrix[mask]\n",
    "\n",
    "        X, loops_taken, relative_error_list = Gauss_Sadel(coef_matrix, \n",
    "                                                        Su_vector, \n",
    "                                                        np.zeros_like(Su_vector), # Initial Guess\n",
    "                                                        tolerance=1e-4, max_loops=50)\n",
    "\n",
    "        max_diff = np.max(np.abs(X - T_old))\n",
    "        print(max_diff)\n",
    "        if max_diff < t:\n",
    "            residue.append(max_diff)\n",
    "            itterations.append(iteration)\n",
    "            print(f\"Converged in {iteration+1} outer iterations.\")\n",
    "            break\n",
    "        T_old = X.copy()"
   ]
  },
  {
   "cell_type": "code",
   "execution_count": 18,
   "id": "87b3c725",
   "metadata": {},
   "outputs": [
    {
     "data": {
      "text/plain": [
       "[3, 3, 4, 4, 9]"
      ]
     },
     "execution_count": 18,
     "metadata": {},
     "output_type": "execute_result"
    }
   ],
   "source": [
    "itterations"
   ]
  },
  {
   "cell_type": "code",
   "execution_count": 19,
   "id": "52a7ae67",
   "metadata": {},
   "outputs": [
    {
     "data": {
      "text/plain": [
       "Text(0.5, 1.0, 'Tolerance vs Residual Error')"
      ]
     },
     "execution_count": 19,
     "metadata": {},
     "output_type": "execute_result"
    },
    {
     "data": {
      "image/png": "[encoded data removed]",
      "text/plain": [
       "<Figure size 640x480 with 1 Axes>"
      ]
     },
     "metadata": {},
     "output_type": "display_data"
    }
   ],
   "source": [
    "plt.plot(tolerances, [i*50 for i in itterations], marker = \"o\")\n",
    "plt.xlabel(\"tolerances\")\n",
    "plt.ylabel(\"itterations\")\n",
    "plt.title(\"Tolerance vs Residual Error\")"
   ]
  },
  {
   "cell_type": "code",
   "execution_count": 11,
   "id": "a44e1bf9",
   "metadata": {},
   "outputs": [],
   "source": [
    "# X, loops_taken, relative_error_list = Gauss_Sadel(coef_matrix, \n",
    "#                                                   Su_vector, \n",
    "#                                                   np.zeros_like(Su_vector), # Initial Guess\n",
    "#                                                   tolerance=1e-4, max_loops=200)"
   ]
  },
  {
   "cell_type": "code",
   "execution_count": 12,
   "id": "07044cfb",
   "metadata": {},
   "outputs": [
    {
     "data": {
      "text/plain": [
       "array([ 1.41221237e+01,  1.24120742e+01,  1.07809345e+01,  9.25821572e+00,\n",
       "        7.86890696e+00,  6.63311013e+00,  5.56608571e+00,  4.67861650e+00,\n",
       "        3.97757300e+00,  3.46656495e+00,  3.14657685e+00,  3.01650678e+00,\n",
       "        3.07355883e+00,  3.31348489e+00,  3.73074142e+00,  4.31875656e+00,\n",
       "        5.07071275e+00,  5.98170550e+00,  7.05471592e+00,  8.32150818e+00,\n",
       "        1.41206629e+01,  1.24073942e+01,  1.07727783e+01,  9.24635911e+00,\n",
       "        7.85314650e+00,  6.61324971e+00,  5.54192877e+00,  4.64996988e+00,\n",
       "        3.94426888e+00,  3.42850714e+00,  3.10381643e+00,  2.96934630e+00,\n",
       "        3.02267882e+00,  3.26007949e+00,  3.67661660e+00,  4.26633568e+00,\n",
       "        5.02291416e+00,  5.94170683e+00,  7.02563034e+00,  8.30601831e+00,\n",
       "        1.41172179e+01,  1.23964067e+01,  1.07536893e+01,  9.21868541e+00,\n",
       "        7.81645174e+00,  6.56711629e+00,  5.48594444e+00,  4.58374224e+00,\n",
       "        3.86747953e+00,  3.34101717e+00,  3.00583320e+00,  2.86164607e+00,\n",
       "        2.90687090e+00,  3.13890496e+00,  3.55416913e+00,  4.14807178e+00,\n",
       "        4.91536009e+00,  5.85192624e+00,  6.96049871e+00,  8.27140853e+00,\n",
       "        1.41108019e+01,  1.23760582e+01,  1.07184803e+01,  9.16782432e+00,\n",
       "        7.74922990e+00,  6.48286046e+00,  5.38400101e+00,  4.46351479e+00,\n",
       "        3.72853300e+00,  3.18326321e+00,  2.82981667e+00,  2.66891180e+00,\n",
       "        2.70036852e+00,  2.92352160e+00,  3.33714024e+00,  3.93902154e+00,\n",
       "        4.72572538e+00,  5.69402081e+00,  6.84622852e+00,  8.21083681e+00,\n",
       "        1.40998235e+01,  1.23414541e+01,  1.06588743e+01,  9.08206471e+00,\n",
       "        7.63629664e+00,  6.34178890e+00,  5.21386887e+00,  4.26352488e+00,\n",
       "        3.49819712e+00,  2.92269348e+00,  2.54018198e+00,  2.35300215e+00,\n",
       "        2.36306485e+00,  2.57272415e+00,  2.98449506e+00,  3.60011589e+00,\n",
       "        4.41894999e+00,  5.43911979e+00,  6.66218639e+00,  8.11351845e+00,\n",
       "        1.40819054e+01,  1.22853296e+01,  1.05626470e+01,  8.94419102e+00,\n",
       "        7.45542656e+00,  6.11664191e+00,  4.94322779e+00,  3.94640415e+00,\n",
       "        3.13415876e+00,  2.51225854e+00,  2.08554290e+00,  1.85897187e+00,\n",
       "        1.83719867e+00,  2.02708874e+00,  2.43681034e+00,  3.07463642e+00,\n",
       "        3.94394303e+00,  5.04501517e+00,  6.37815156e+00,  7.96365067e+00,\n",
       "        1.40536748e+01,  1.21974419e+01,  1.04126549e+01,  8.73018532e+00,\n",
       "        7.17576606e+00,  5.76973883e+00,  4.52754015e+00,  3.46075894e+00,\n",
       "        2.57831347e+00,  1.88737198e+00,  1.39522217e+00,  1.11143709e+00,\n",
       "        1.04340203e+00,  1.20487204e+00,  1.61174661e+00,  2.28378650e+00,\n",
       "        3.22925751e+00,  4.45236552e+00,  5.95149959e+00,  7.73891161e+00,\n",
       "        1.40105388e+01,  1.20639340e+01,  1.01858355e+01,  8.40792582e+00,\n",
       "        6.75629327e+00,  5.25124416e+00,  3.90810619e+00,  2.73892829e+00,\n",
       "        1.75419906e+00,  9.62928515e-01,  3.75181313e-01,  1.01214468e-02,\n",
       "       -1.24791904e-01, -3.12170694e-03,  3.98193979e-01,  1.12120771e+00,\n",
       "        2.17742031e+00,  3.57959241e+00,  5.32334244e+00,  7.40836105e+00,\n",
       "        1.39464680e+01,  1.18667261e+01,  9.85227940e+00,  7.93602603e+00,\n",
       "        6.14452686e+00,  4.49784793e+00,  3.01071806e+00,  1.69536292e+00,\n",
       "        5.64802212e-01, -3.69734378e-01, -1.10069052e+00, -1.60010531e+00,\n",
       "       -1.83710140e+00, -1.77110932e+00, -1.35810019e+00, -5.55445867e-01,\n",
       "        6.57067345e-01,  2.31589402e+00,  4.41310368e+00,  6.92938788e+00,\n",
       "        1.38538004e+01,  1.15829883e+01,  9.37446619e+00,  7.26294447e+00,\n",
       "        5.27563684e+00,  3.43208172e+00,  1.74537764e+00,  2.26401750e-01,\n",
       "       -1.11121386e+00, -2.26168749e+00, -3.20016036e+00, -3.88840858e+00,\n",
       "       -4.27552071e+00, -4.29806755e+00, -3.88596758e+00, -2.97283972e+00,\n",
       "       -1.51197729e+00,  5.11514186e-01,  3.11046160e+00,  6.24294742e+00,\n",
       "        1.37230728e+01,  1.11847169e+01,  8.70673928e+00,  6.32648391e+00,\n",
       "        4.07201069e+00,  1.96208597e+00,  6.72612457e-03, -1.79315981e+00,\n",
       "       -3.42463093e+00, -4.87037506e+00, -6.09682285e+00, -7.05049243e+00,\n",
       "       -7.65648763e+00, -7.81993301e+00, -7.43309917e+00, -6.38939223e+00,\n",
       "       -4.60443292e+00, -2.04133105e+00,  1.26187755e+00,  5.26553289e+00,\n",
       "        1.35428449e+01,  1.06383526e+01,  7.79504161e+00,  5.05389987e+00,\n",
       "        2.44354651e+00, -1.89398399e-02, -2.33882685e+00, -4.51236018e+00,\n",
       "       -6.52959267e+00, -8.36819306e+00, -9.98428659e+00, -1.13056445e+01,\n",
       "       -1.22277220e+01, -1.26141297e+01, -1.23042485e+01, -1.11307437e+01,\n",
       "       -8.94904932e+00, -5.67828160e+00, -1.34732604e+00,  3.87598009e+00,\n",
       "        1.32993871e+01,  9.90414183e+00,  6.57668260e+00,  3.36298234e+00,\n",
       "        2.90691680e-01, -2.63250634e+00, -5.41938646e+00, -8.07203659e+00,\n",
       "       -1.05848397e+01, -1.29338355e+01, -1.50656922e+01, -1.68877949e+01,\n",
       "       -1.82608446e+01, -1.89962421e+01, -1.88618907e+01, -1.76014118e+01,\n",
       "       -1.49726485e+01, -1.08099847e+01, -5.10819521e+00,  1.89007382e+00,\n",
       "        1.29759246e+01,  8.93443297e+00,  4.97893479e+00,  1.16264959e+00,\n",
       "       -2.49230864e+00, -5.99580832e+00, -9.36395068e+00, -1.26123637e+01,\n",
       "       -1.57448507e+01, -1.87404556e+01, -2.15397003e+01, -2.40308560e+01,\n",
       "       -2.60375306e+01, -2.73099759e+01, -2.75245656e+01, -2.62990727e+01,\n",
       "       -2.32355331e+01, -1.80053925e+01, -1.04857271e+01, -9.22777040e-01,\n",
       "        1.25508655e+01,  7.66963352e+00,  2.91434967e+00, -1.65247004e+00,\n",
       "       -6.02719566e+00, -1.02300203e+01, -1.42966794e+01, -1.82625524e+01,\n",
       "       -2.21475164e+01, -2.59403459e+01, -2.95819803e+01, -3.29474433e+01,\n",
       "       -3.58267768e+01, -3.79065117e+01, -3.87556901e+01, -3.78256314e+01,\n",
       "       -3.44822953e+01, -2.81047554e+01, -1.82955133e+01, -5.22598809e+00,\n",
       "        1.19937513e+01,  6.03057399e+00,  2.75359836e-01, -5.20671205e+00,\n",
       "       -1.04322405e+01, -1.54501933e+01, -2.03276998e+01, -2.51293832e+01,\n",
       "       -2.98999371e+01, -3.46470324e+01, -3.93225136e+01, -4.38003985e+01,\n",
       "       -4.78504560e+01, -5.11065383e+01, -5.30304619e+01, -5.28775974e+01,\n",
       "       -4.96850066e+01, -4.23367891e+01, -2.98233004e+01, -1.18728441e+01,\n",
       "        1.12540377e+01,  3.90042414e+00, -3.07774850e+00, -9.63587729e+00,\n",
       "       -1.58294695e+01, -2.17608105e+01, -2.75445426e+01, -3.32858680e+01,\n",
       "       -3.90641052e+01, -4.49166914e+01, -5.08205256e+01, -5.66681181e+01,\n",
       "       -6.22354823e+01, -6.71372753e+01, -7.07628808e+01, -7.21871618e+01,\n",
       "       -7.00594580e+01, -6.25184116e+01, -4.73200811e+01, -2.27072377e+01,\n",
       "        1.02265810e+01,  1.07955493e+00, -7.35109642e+00, -1.51064037e+01,\n",
       "       -2.23436680e+01, -2.92496781e+01, -3.60035134e+01, -4.27610070e+01,\n",
       "       -4.96445569e+01, -5.67319136e+01, -6.40409748e+01, -7.15080193e+01,\n",
       "       -7.89552828e+01, -8.60399703e+01, -9.21693473e+01, -9.63532850e+01,\n",
       "       -9.69463501e+01, -9.12240531e+01, -7.48514591e+01, -4.20194756e+01,\n",
       "        8.63785208e+00, -2.79613008e+00, -1.28336008e+01, -2.18140990e+01,\n",
       "       -3.00939123e+01, -3.79781129e+01, -4.57206960e+01, -5.35317832e+01,\n",
       "       -6.15804504e+01, -6.99918904e+01, -7.88390119e+01, -8.81277490e+01,\n",
       "       -9.77731178e+01, -1.07558256e+02, -1.17057759e+02, -1.25480306e+02,\n",
       "       -1.31319395e+02, -1.31533002e+02, -1.19579400e+02, -8.11058272e+01,\n",
       "        5.58959379e+00, -8.43348402e+00, -1.99266363e+01, -2.99657426e+01,\n",
       "       -3.91721829e+01, -4.79656842e+01, -5.66628537e+01, -6.55187659e+01,\n",
       "       -7.47445258e+01, -8.45133283e+01, -9.49603890e+01, -1.06179185e+02,\n",
       "       -1.18214672e+02, -1.31051900e+02, -1.44593387e+02, -1.58603818e+02,\n",
       "       -1.72549879e+02, -1.85059173e+02, -1.91738377e+02, -1.73816760e+02])"
      ]
     },
     "execution_count": 12,
     "metadata": {},
     "output_type": "execute_result"
    }
   ],
   "source": [
    "X"
   ]
  },
  {
   "cell_type": "code",
   "execution_count": 13,
   "id": "7aa0d102",
   "metadata": {},
   "outputs": [
    {
     "data": {
      "image/png": "[encoded data removed]",
      "text/plain": [
       "<Figure size 800x800 with 2 Axes>"
      ]
     },
     "metadata": {},
     "output_type": "display_data"
    }
   ],
   "source": [
    "# Reshape for 5×5 grid\n",
    "X_grid = X.reshape(num_nodes_x, num_nodes_y).transpose()\n",
    "\n",
    "# Create coordinates  \n",
    "x = np.linspace(0, num_nodes_x*dx, num_nodes_x)\n",
    "y = np.linspace(0, num_nodes_y*dy, num_nodes_y)\n",
    "X_coords, Y_coords = np.meshgrid(x, y)\n",
    "\n",
    "\n",
    "plt.figure(figsize=(8,8))\n",
    "contour = plt.contourf(X_coords, Y_coords, X_grid, levels=20, cmap='inferno')\n",
    "plt.colorbar(label='Temperature')\n",
    "plt.xlabel('x')\n",
    "plt.ylabel('y')\n",
    "plt.title('Temperature Distribution')\n",
    "\n",
    "plt.gca().set_aspect(dx/dy) \n",
    "plt.show()"
   ]
  },
  {
   "cell_type": "code",
   "execution_count": null,
   "id": "c9db1b08",
   "metadata": {},
   "outputs": [],
   "source": []
  },
  {
   "cell_type": "code",
   "execution_count": null,
   "id": "3e2099a9",
   "metadata": {},
   "outputs": [],
   "source": []
  }
 ],
 "metadata": {
  "kernelspec": {
   "display_name": "Python 3",
   "language": "python",
   "name": "python3"
  },
  "language_info": {
   "codemirror_mode": {
    "name": "ipython",
    "version": 3
   },
   "file_extension": ".py",
   "mimetype": "text/x-python",
   "name": "python",
   "nbconvert_exporter": "python",
   "pygments_lexer": "ipython3",
   "version": "3.11.5"
  }
 },
 "nbformat": 4,
 "nbformat_minor": 5
}
