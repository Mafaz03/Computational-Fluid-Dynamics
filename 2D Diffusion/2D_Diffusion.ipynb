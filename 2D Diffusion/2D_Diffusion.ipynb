{
 "cells": [
  {
   "cell_type": "code",
   "execution_count": 129,
   "id": "4d1b2c58",
   "metadata": {},
   "outputs": [],
   "source": [
    "import numpy as np\n",
    "import matplotlib.pyplot as plt\n",
    "from helper import *\n",
    "from gauss_sadel import Gauss_Sadel\n",
    "from tqdm import tqdm\n",
    "\n",
    "## Inputs ###################\n",
    "\n",
    "dx = 0.05\n",
    "dy = 0.025\n",
    "\n",
    "Lx = 1\n",
    "Ly = 0.5\n",
    "\n",
    "num_nodes_x = int(Lx / dx)\n",
    "num_nodes_y = int(Ly / dy)\n",
    "\n",
    "# For equidistant change it to 0, 0\n",
    "x_percentage = 10 # reduce by {x_percentage}%\n",
    "y_percentage = 5 # reduce by {y_percentage}%\n",
    "\n",
    "index_x = 0\n",
    "index_y = -1\n",
    "\n",
    "### Boundary Conditions\n",
    "# T South : Temperature | 15\n",
    "# T East  : Flux        | 5000\n",
    "# T North : Temperature | 10\n",
    "# T West  : Insulated   | \n",
    "\n",
    "q_E       = -5000  # uniform heat generation\n",
    "\n",
    "T_N       = 10 # North Side\n",
    "T_S       = 15\n",
    "\n",
    "H = 0.5\n",
    "\n",
    "##############################\n",
    "\n",
    "class node:\n",
    "    def __init__(self):\n",
    "\n",
    "        self.idx = None # Idx starts with 1 (i messed up)\n",
    "        self.node_pos = None\n",
    "        self.Cell_size_x = 5\n",
    "        self.Cell_size_y = 5\n",
    "        self.grid_face = None\n",
    "        self.node_type = None \n",
    "\n",
    "        self.Gx = None # Location along the x axis\n",
    "        self.Gy = None # Location along the y axis\n",
    "\n",
    "        self.edge_color = \"blue\"\n",
    "\n",
    "        self.edge_node_pos = []\n",
    "        #    1\n",
    "        # 0|   | 2\n",
    "        #    3\n",
    "\n",
    "        self.del_xe = None\n",
    "        self.del_xn = None\n",
    "        self.del_xw = None\n",
    "        self.del_xs = None\n",
    "\n",
    "# Initializing empty mesh\n",
    "mesh = np.array([[node() for x in range(num_nodes_x)] for y in range(num_nodes_y)])\n",
    "\n",
    "# Equidistant mesh gets created here\n",
    "x_val = 0\n",
    "y_val = 0\n",
    "\n",
    "# the origin of the x and y axis is on the bottom left\n",
    "idx = 0\n",
    "for y in range(mesh.shape[0]):\n",
    "    for x in range(mesh.shape[1]):\n",
    "        cell = mesh[y][x]\n",
    "        cell.idx = idx\n",
    "        cell.Gx = x_val\n",
    "        cell.Gy = y_val\n",
    "\n",
    "        if y == 0: cell.edge_node_pos.append(3)\n",
    "        if x == 0: cell.edge_node_pos.append(0)\n",
    "        if x == (Ly/dy) - 1 : cell.edge_node_pos.append(2)\n",
    "        if y == (Lx/dx) - 1 : cell.edge_node_pos.append(1)\n",
    "\n",
    "        x_val += cell.Cell_size_x\n",
    "        idx += 1\n",
    "    x_val = 0\n",
    "    y_val += cell.Cell_size_y\n",
    "\n",
    "def strech_mesh(mesh: np.array, x_percentage, y_percentage, strech_function, index_x, index_y):\n",
    "    if x_percentage == 0 and y_percentage == 0: # Edge case\n",
    "        return mesh\n",
    "    \n",
    "    # Stretch in x\n",
    "    if x_percentage != 0:\n",
    "        for y in range(mesh.shape[0]):\n",
    "            x_array_size = [mesh[y][x].Cell_size_x for x in range(mesh.shape[1])]\n",
    "            stretched_array_size = strech_function(x_array_size, index_x, x_percentage)\n",
    "            for x in range(mesh.shape[1]):\n",
    "                mesh[y][x].Cell_size_x = stretched_array_size[x]\n",
    "\n",
    "    # Stretch in y\n",
    "    if y_percentage != 0:\n",
    "        for x in range(mesh.shape[1]):\n",
    "            y_array_size = [mesh[y][x].Cell_size_y for y in range(mesh.shape[0])]\n",
    "            stretched_array_size = strech_function(y_array_size, index_y, y_percentage)\n",
    "            for y in range(mesh.shape[0]):\n",
    "                mesh[y][x].Cell_size_y = stretched_array_size[y]\n",
    "\n",
    "    # Recompute coordinates AFTER both\n",
    "    y_val = 0\n",
    "    for y in range(mesh.shape[0]):\n",
    "        x_val = 0\n",
    "        for x in range(mesh.shape[1]):\n",
    "            mesh[y][x].Gx = x_val\n",
    "            mesh[y][x].Gy = y_val\n",
    "            x_val += mesh[y][x].Cell_size_x\n",
    "        y_val += mesh[y][0].Cell_size_y\n",
    "\n",
    "    return mesh \n",
    "\n",
    "mesh = strech_mesh(mesh, x_percentage, y_percentage, strech_function = degrade_percentage, index_x=index_x, index_y=index_y)   \n"
   ]
  },
  {
   "cell_type": "code",
   "execution_count": 122,
   "id": "7ba06ceb",
   "metadata": {},
   "outputs": [
    {
     "data": {
      "text/plain": [
       "(20, 20)"
      ]
     },
     "execution_count": 122,
     "metadata": {},
     "output_type": "execute_result"
    }
   ],
   "source": [
    "mesh.shape"
   ]
  },
  {
   "cell_type": "code",
   "execution_count": 130,
   "id": "0ec83ced",
   "metadata": {},
   "outputs": [],
   "source": [
    "for y in range(num_nodes_y):\n",
    "    for x in range(num_nodes_x):\n",
    "\n",
    "        cell = mesh[y][x]\n",
    "        if y == 0:\n",
    "            cell.del_xn = cell.Cell_size_y/2\n",
    "            cell.del_xs = mesh[y][x].Cell_size_y/2 + mesh[y+1][x].Cell_size_y/2\n",
    "            if x == 0:\n",
    "                cell.del_xw = cell.Cell_size_x/2\n",
    "                cell.del_xe = mesh[y][x].Cell_size_x/2 + mesh[y][x+1].Cell_size_x/2\n",
    "\n",
    "            elif x == len(mesh[0])-1:\n",
    "                cell.del_xe = cell.Cell_size_x/2  \n",
    "                cell.del_xw = mesh[y][x].Cell_size_x/2 + mesh[y][x-1].Cell_size_x/2\n",
    "            \n",
    "            else: # non edge case \n",
    "                cell.del_xw = mesh[y][x].Cell_size_x/2 + mesh[y][x-1].Cell_size_x/2   \n",
    "                cell.del_xe = mesh[y][x].Cell_size_x/2 + mesh[y][x+1].Cell_size_x/2\n",
    "\n",
    "        if y == mesh.shape[0]-1:\n",
    "            cell.del_xs = cell.Cell_size_y/2 \n",
    "            cell.del_xn = mesh[y][x].Cell_size_y/2 + mesh[y-1][x].Cell_size_y/2\n",
    "\n",
    "            if x == 0:\n",
    "                cell.del_xw = cell.Cell_size_x/2\n",
    "                cell.del_xe = mesh[y][x].Cell_size_x/2 + mesh[y][x+1].Cell_size_x/2\n",
    "           \n",
    "            elif x == len(mesh[0])-1:\n",
    "                cell.del_xe = cell.Cell_size_x/2  \n",
    "                cell.del_xw = mesh[y][x].Cell_size_x/2 + mesh[y][x-1].Cell_size_x/2\n",
    "            \n",
    "            else: # non edge case \n",
    "                cell.del_xw = mesh[y][x].Cell_size_x/2 + mesh[y][x-1].Cell_size_x/2   \n",
    "                cell.del_xe = mesh[y][x].Cell_size_x/2 + mesh[y][x+1].Cell_size_x/2\n",
    "\n",
    "        else:\n",
    "            cell.del_xn = mesh[y][x].Cell_size_y/2 + mesh[y-1][x].Cell_size_y/2   \n",
    "            cell.del_xs = mesh[y][x].Cell_size_y/2 + mesh[y+1][x].Cell_size_y/2   \n",
    "            if x == 0:\n",
    "                cell.del_xw = cell.Cell_size_x/2\n",
    "                cell.del_xe = mesh[y][x].Cell_size_x/2 + mesh[y][x+1].Cell_size_x/2\n",
    "\n",
    "            elif x == mesh.shape[1]-1:\n",
    "                cell.del_xe = cell.Cell_size_x/2\n",
    "                cell.del_xw = mesh[y][x].Cell_size_x/2 + mesh[y][x-1].Cell_size_x/2   \n",
    "                \n",
    "            else: # non edge case \n",
    "                cell.del_xw = mesh[y][x].Cell_size_x/2 + mesh[y][x-1].Cell_size_x/2   \n",
    "                cell.del_xe = mesh[y][x].Cell_size_x/2 + mesh[y][x+1].Cell_size_x/2    "
   ]
  },
  {
   "cell_type": "code",
   "execution_count": 131,
   "id": "0b8fdcc9",
   "metadata": {},
   "outputs": [],
   "source": [
    "delta_x = [] # size of the cell in x direction\n",
    "delta_y = [] # size of the cell in y direction\n",
    "\n",
    "for y in range(len(mesh)):\n",
    "    delta_x_temp = []\n",
    "    delta_y_temp = []\n",
    "    for x in range(len(mesh[0])):\n",
    "        cell = mesh[y][x]\n",
    "        delta_x_temp.append(cell.Cell_size_x)\n",
    "        delta_y_temp.append(cell.Cell_size_y)\n",
    "    delta_x.append(delta_x_temp)\n",
    "    delta_y.append(delta_x_temp)"
   ]
  },
  {
   "cell_type": "code",
   "execution_count": 78,
   "id": "afd3b2f3",
   "metadata": {},
   "outputs": [
    {
     "data": {
      "image/png": "[encoded data removed]",
      "text/plain": [
       "<Figure size 1000x1000 with 1 Axes>"
      ]
     },
     "metadata": {},
     "output_type": "display_data"
    }
   ],
   "source": [
    "plot_mesh(mesh, Ly, Lx)"
   ]
  },
  {
   "cell_type": "code",
   "execution_count": 133,
   "id": "186dfee0",
   "metadata": {},
   "outputs": [],
   "source": [
    "nodes = []\n",
    "n = 1\n",
    "for i in range(int(num_nodes_x)):\n",
    "    l = []\n",
    "    for j in range(int(num_nodes_y)):\n",
    "        l.append(n)\n",
    "        n+=1\n",
    "    nodes.append(l)\n",
    "\n",
    "# nodes = nodes[::-1]\n",
    "nodes = np.fliplr(np.array(nodes)).transpose()\n",
    "nodes = np.array(nodes)\n",
    "\n",
    "for i in range(int(num_nodes_y)):\n",
    "    for j in range(int(num_nodes_x)):\n",
    "        mesh[i][j].idx = nodes[i][j]"
   ]
  },
  {
   "cell_type": "code",
   "execution_count": 134,
   "id": "67952784",
   "metadata": {},
   "outputs": [
    {
     "data": {
      "text/plain": [
       "(400, 400)"
      ]
     },
     "execution_count": 134,
     "metadata": {},
     "output_type": "execute_result"
    }
   ],
   "source": [
    "coef_matrix = np.zeros((num_nodes_y*num_nodes_x, num_nodes_y*num_nodes_x))\n",
    "Su_vector = np.zeros_like(coef_matrix[:,0])\n",
    "coef_matrix.shape"
   ]
  },
  {
   "cell_type": "code",
   "execution_count": null,
   "id": "470676ba",
   "metadata": {},
   "outputs": [],
   "source": [
    "for node_idx in range(num_nodes_x * num_nodes_y):\n",
    "    # print(f\"Processing node {node_idx}\")\n",
    "    cell_x, cell_y = linear_to_flipped_coords(node_idx, num_nodes_y)\n",
    "    cell_x, cell_y = int(cell_x), int(cell_y)\n",
    "\n",
    "    # For mesh[y][x] indexing\n",
    "    cell = mesh[cell_x][cell_y]\n",
    "    # print(f\"Coordinates: ({cell_x}, {cell_y})\")\n",
    "\n",
    "    nei_dict = find_neighbors(nodes, cell_x, cell_y, num_nodes_x, num_nodes_y)\n",
    "    # print(f\"Neighbors: {nei_dict}\")\n",
    "\n",
    "    # Initialize coefficients\n",
    "    a_N = a_S = a_E = a_W = 0\n",
    "    Su = 0\n",
    "\n",
    "    # -----------------------------\n",
    "    k_cell = 16 * ((cell.Gy + (cell.Cell_size_y/2)) / H + 1)\n",
    "    Su += -1.5 * cell.Cell_size_x * cell.Cell_size_y\n",
    "    # -----------------------------\n",
    "\n",
    "    # +++++++ SOUTH boundary: Dirichlet T=15 +++++++\n",
    "    if nei_dict['south'] is None and nei_dict['east'] is not None and nei_dict['west'] is not None:\n",
    "        a_E = (k_cell * cell.Cell_size_y) / cell.del_xe\n",
    "        a_N = (k_cell * cell.Cell_size_x) / cell.del_xn    \n",
    "        a_W = (k_cell * cell.Cell_size_y) / cell.del_xw\n",
    "        a_S = (k_cell * cell.Cell_size_x) / cell.del_xs   # half-cell treatment\n",
    "\n",
    "        a_P = a_E + a_N + a_S + a_W\n",
    "        Su += a_S * T_S\n",
    "\n",
    "        coef_matrix[node_idx, node_idx] = a_P\n",
    "        coef_matrix[node_idx, nei_dict['east'] - 1] = a_E\n",
    "        coef_matrix[node_idx, nei_dict['north'] - 1] = a_N\n",
    "        coef_matrix[node_idx, nei_dict['west'] - 1] = a_W\n",
    "\n",
    "    # +++++++ NORTH boundary: Dirichlet T=10 +++++++\n",
    "    elif nei_dict['north'] is None and nei_dict['east'] is not None and nei_dict['west'] is not None:\n",
    "        a_E = (k_cell * cell.Cell_size_y) / cell.del_xe\n",
    "        a_S = (k_cell * cell.Cell_size_x) / cell.del_xs\n",
    "        a_W = (k_cell * cell.Cell_size_y) / cell.del_xw\n",
    "        a_N = (k_cell * cell.Cell_size_x) / cell.del_xn  # half-cell treatment\n",
    "\n",
    "        a_P = a_E + a_N + a_S + a_W\n",
    "        Su += a_N * T_N\n",
    "\n",
    "        coef_matrix[node_idx, node_idx] = a_P\n",
    "        coef_matrix[node_idx, nei_dict['east'] - 1] = a_E\n",
    "        coef_matrix[node_idx, nei_dict['south'] - 1] = a_S\n",
    "        coef_matrix[node_idx, nei_dict['west'] - 1] = a_W\n",
    "\n",
    "    # +++++++ EAST boundary: Neumann flux q=5000 +++++++\n",
    "    elif nei_dict['east'] is None:\n",
    "        a_N = (k_cell * cell.Cell_size_x) / cell.del_xn if nei_dict['north'] is None else (k_cell * cell.Cell_size_x) / cell.del_xn\n",
    "        a_S = (k_cell * cell.Cell_size_x) / cell.del_xs if nei_dict['south'] is None else (k_cell * cell.Cell_size_x) / cell.del_xs\n",
    "        a_W = (k_cell * cell.Cell_size_y) / cell.del_xw if nei_dict['west'] is not None else 0\n",
    "\n",
    "        # Add Dirichlet contribution for top-right / bottom-right corners\n",
    "        if nei_dict['north'] is None:\n",
    "            Su += a_N * T_N\n",
    "        if nei_dict['south'] is None:\n",
    "            Su += a_S * T_S\n",
    "\n",
    "        # Neumann flux contribution\n",
    "        Su += q_E * cell.Cell_size_y\n",
    "\n",
    "        a_P = a_N + a_S + a_W  # no east neighbor\n",
    "\n",
    "        coef_matrix[node_idx, node_idx] = a_P\n",
    "        if nei_dict['north'] is not None:\n",
    "            coef_matrix[node_idx, nei_dict['north'] - 1] = a_N\n",
    "        if nei_dict['south'] is not None:\n",
    "            coef_matrix[node_idx, nei_dict['south'] - 1] = a_S\n",
    "        if nei_dict['west'] is not None:\n",
    "            coef_matrix[node_idx, nei_dict['west'] - 1] = a_W\n",
    "\n",
    "    # +++++++ WEST boundary: Insulated +++++++\n",
    "    elif nei_dict['west'] is None:\n",
    "        if nei_dict['north'] is None:\n",
    "            # top-left\n",
    "            a_N = (k_cell * cell.Cell_size_x) / cell.del_xn # half-cell treatment\n",
    "            a_S = (k_cell * cell.Cell_size_x) / cell.del_xs\n",
    "            a_E = (k_cell * cell.Cell_size_y) / cell.del_xe\n",
    "        \n",
    "            Su += a_N * T_N\n",
    "\n",
    "        elif nei_dict['south'] is None:\n",
    "            # bottom-left\n",
    "            a_N = (k_cell * cell.Cell_size_x) / cell.del_xn\n",
    "            a_S = (k_cell * cell.Cell_size_x) / cell.del_xs # half-cell treatment\n",
    "            a_E = (k_cell * cell.Cell_size_y) / cell.del_xe\n",
    "            Su += a_S * T_S\n",
    "\n",
    "        else:\n",
    "            # middle of west boundary\n",
    "            a_N = (k_cell * cell.Cell_size_x) / cell.del_xn\n",
    "            a_S = (k_cell * cell.Cell_size_x) / cell.del_xs\n",
    "            a_E = (k_cell * cell.Cell_size_y) / cell.del_xe\n",
    "\n",
    "        a_W = 0  # insulated\n",
    "        a_P = a_E + a_N + a_S\n",
    "\n",
    "        coef_matrix[node_idx, node_idx] = a_P\n",
    "        if nei_dict['north'] is not None:\n",
    "            coef_matrix[node_idx, nei_dict['north'] - 1] = a_N\n",
    "        if nei_dict['south'] is not None:\n",
    "            coef_matrix[node_idx, nei_dict['south'] - 1] = a_S\n",
    "        coef_matrix[node_idx, nei_dict['east'] - 1] = a_E\n",
    "\n",
    "    # +++++++ INTERIOR node +++++++\n",
    "    else:\n",
    "        if nei_dict['north'] is not None:\n",
    "            a_N = (k_cell * cell.Cell_size_x) / cell.del_xn\n",
    "            coef_matrix[node_idx, nei_dict['north'] - 1] = a_N\n",
    "        if nei_dict['south'] is not None:\n",
    "            a_S = (k_cell * cell.Cell_size_x) / cell.del_xs\n",
    "            coef_matrix[node_idx, nei_dict['south'] - 1] = a_S\n",
    "        if nei_dict['east'] is not None:\n",
    "            a_E = (k_cell * cell.Cell_size_y) / cell.del_xe\n",
    "            coef_matrix[node_idx, nei_dict['east'] - 1] = a_E\n",
    "        if nei_dict['west'] is not None:\n",
    "            a_W = (k_cell * cell.Cell_size_y) / cell.del_xw\n",
    "            coef_matrix[node_idx, nei_dict['west'] - 1] = a_W\n",
    "\n",
    "        a_P = a_E + a_N + a_S + a_W\n",
    "        coef_matrix[node_idx, node_idx] = a_P\n",
    "\n",
    "    # +++++++ Update source vector +++++++\n",
    "    Su_vector[node_idx] = Su\n",
    "    # print(a_P, end=\"\\n\\n\")\n",
    "\n",
    "\n",
    "# Making non diagnol element negetive\n",
    "mask = ~np.eye(coef_matrix.shape[0], dtype=bool)\n",
    "coef_matrix[mask] = -coef_matrix[mask]\n",
    "\n"
   ]
  },
  {
   "cell_type": "code",
   "execution_count": 136,
   "id": "a44e1bf9",
   "metadata": {},
   "outputs": [
    {
     "name": "stderr",
     "output_type": "stream",
     "text": [
      "100%|██████████| 200/200 [00:08<00:00, 24.28it/s]\n"
     ]
    }
   ],
   "source": [
    "X, loops_taken, relative_error_list = Gauss_Sadel(coef_matrix, Su_vector, np.zeros_like(Su_vector),\n",
    "                             tolerance=1e-4, max_loops=200)"
   ]
  },
  {
   "cell_type": "code",
   "execution_count": null,
   "id": "34af237d",
   "metadata": {},
   "outputs": [
    {
     "name": "stderr",
     "output_type": "stream",
     "text": [
      "  0%|          | 305/100000 [00:19<1:45:56, 15.68it/s]\n",
      "  0%|          | 350/100000 [00:31<2:29:45, 11.09it/s]\n",
      "  0%|          | 395/100000 [00:41<2:52:31,  9.62it/s]\n",
      "  1%|          | 581/100000 [01:32<4:23:58,  6.28it/s]\n",
      "  2%|▏         | 1652/100000 [03:23<3:21:39,  8.13it/s]\n",
      "100%|██████████| 5/5 [06:27<00:00, 77.58s/it] \n"
     ]
    }
   ],
   "source": [
    "# tols = np.linspace(1e-1, 1e-5, 5)\n",
    "\n",
    "# loops_taken_list = []\n",
    "# for tol in tols:\n",
    "#     X, loops_taken, relative_error_list = Gauss_Sadel(coef_matrix, Su_vector, np.zeros_like(Su_vector),\n",
    "#                                 tolerance=tol, max_loops=100000)\n",
    "#     loops_taken_list.append(loops_taken)"
   ]
  },
  {
   "cell_type": "code",
   "execution_count": null,
   "id": "76b6e71b",
   "metadata": {},
   "outputs": [
    {
     "data": {
      "image/png": "[encoded data removed]",
      "text/plain": [
       "<Figure size 640x480 with 1 Axes>"
      ]
     },
     "metadata": {},
     "output_type": "display_data"
    }
   ],
   "source": [
    "# import matplotlib.ticker as ticker\n",
    "\n",
    "# plt.plot(tols, loops_taken_list, marker = 'o')\n",
    "# plt.ylabel(\"Number of Itterations\")\n",
    "# plt.xlabel(\"Tolerance\")\n",
    "# plt.title(\"Tolerance vs Residual Error\")\n",
    "\n",
    "# plt.gca().xaxis.set_major_formatter(ticker.FuncFormatter(lambda x, _: f\"{x:.0e}\"))\n",
    "\n",
    "# plt.show()"
   ]
  },
  {
   "cell_type": "code",
   "execution_count": null,
   "id": "0ada54e7",
   "metadata": {},
   "outputs": [],
   "source": [
    "# # Making non diagnol element negetive\n",
    "# mask = ~np.eye(coef_matrix.shape[0], dtype=bool)\n",
    "# coef_matrix[mask] = -coef_matrix[mask]\n"
   ]
  },
  {
   "cell_type": "code",
   "execution_count": null,
   "id": "913a27f2",
   "metadata": {},
   "outputs": [],
   "source": [
    "# X, loops_taken = Gauss_Sadel(coef_matrix, Su_vector, np.zeros_like(Su_vector),\n",
    "#                              tolerance=1e-4, max_loops=100)"
   ]
  },
  {
   "cell_type": "code",
   "execution_count": null,
   "id": "7aa0d102",
   "metadata": {},
   "outputs": [
    {
     "data": {
      "image/png": "[encoded data removed]",
      "text/plain": [
       "<Figure size 800x800 with 2 Axes>"
      ]
     },
     "metadata": {},
     "output_type": "display_data"
    }
   ],
   "source": [
    "# Reshape for 5×5 grid\n",
    "X_grid = X.reshape(num_nodes_x, num_nodes_y).transpose()\n",
    "\n",
    "# Create coordinates  \n",
    "x = np.linspace(0, num_nodes_x*dx, num_nodes_x)\n",
    "y = np.linspace(0, num_nodes_y*dy, num_nodes_y)\n",
    "X_coords, Y_coords = np.meshgrid(x, y)\n",
    "\n",
    "\n",
    "plt.figure(figsize=(8,8))\n",
    "contour = plt.contourf(X_coords, Y_coords, X_grid, levels=20, cmap='inferno')\n",
    "plt.colorbar(label='Temperature')\n",
    "plt.xlabel('x')\n",
    "plt.ylabel('y')\n",
    "plt.title('Temperature Distribution')\n",
    "\n",
    "plt.gca().set_aspect(dx/dy) \n",
    "plt.show()\n",
    "\n"
   ]
  },
  {
   "cell_type": "code",
   "execution_count": null,
   "id": "c9db1b08",
   "metadata": {},
   "outputs": [],
   "source": []
  },
  {
   "cell_type": "code",
   "execution_count": null,
   "id": "3e2099a9",
   "metadata": {},
   "outputs": [],
   "source": []
  }
 ],
 "metadata": {
  "kernelspec": {
   "display_name": "Python 3",
   "language": "python",
   "name": "python3"
  },
  "language_info": {
   "codemirror_mode": {
    "name": "ipython",
    "version": 3
   },
   "file_extension": ".py",
   "mimetype": "text/x-python",
   "name": "python",
   "nbconvert_exporter": "python",
   "pygments_lexer": "ipython3",
   "version": "3.11.5"
  }
 },
 "nbformat": 4,
 "nbformat_minor": 5
}
