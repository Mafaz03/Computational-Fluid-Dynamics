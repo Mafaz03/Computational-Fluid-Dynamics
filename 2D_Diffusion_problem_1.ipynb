{
 "cells": [
  {
   "cell_type": "code",
   "execution_count": 85,
   "id": "32deff21",
   "metadata": {},
   "outputs": [],
   "source": [
    "# CHAPTER 4 FINITE VOLUME METHOD FOR DIFFUSION PROBLEMS"
   ]
  },
  {
   "cell_type": "code",
   "execution_count": 86,
   "id": "b922c955",
   "metadata": {},
   "outputs": [],
   "source": [
    "import numpy as np\n",
    "import matplotlib.pyplot as plt"
   ]
  },
  {
   "cell_type": "code",
   "execution_count": 87,
   "id": "2fa58552",
   "metadata": {},
   "outputs": [],
   "source": [
    "Ly        = 0.4 # Length of the plate\n",
    "Lx        = 0.3\n",
    "\n",
    "num_nodes_y = 4\n",
    "num_nodes_x = 3\n",
    "\n",
    "del_x     = round(Lx / num_nodes_x, 2)\n",
    "del_y     = round(Ly / num_nodes_y, 2)\n",
    "\n",
    "thickness = 0.01\n",
    "\n",
    "k         = 1000\n",
    "\n",
    "A         = 0.001\n",
    "\n",
    "q_W       = 500_000  # uniform heat generation\n",
    "\n",
    "T_A       = 100 # North Side\n",
    "                # East  -> Insulated dT/dx = 0\n",
    "                # South -> Insulated dT/dy = 0"
   ]
  },
  {
   "cell_type": "code",
   "execution_count": 88,
   "id": "135927f4",
   "metadata": {},
   "outputs": [
    {
     "name": "stdout",
     "output_type": "stream",
     "text": [
      "[ 4  8 12]\n",
      "[ 3  7 11]\n",
      "[ 2  6 10]\n",
      "[1 5 9]\n"
     ]
    }
   ],
   "source": [
    "nodes = []\n",
    "n = 1\n",
    "for i in range(num_nodes_x):\n",
    "    l = []\n",
    "    for j in range(num_nodes_y):\n",
    "        l.append(n)\n",
    "        n+=1\n",
    "    nodes.append(l)\n",
    "\n",
    "# nodes = nodes[::-1]\n",
    "nodes = np.fliplr(np.array(nodes)).transpose()\n",
    "\n",
    "for i in nodes:\n",
    "    print(i)"
   ]
  },
  {
   "cell_type": "code",
   "execution_count": 89,
   "id": "af82fa89",
   "metadata": {},
   "outputs": [
    {
     "data": {
      "text/plain": [
       "12"
      ]
     },
     "execution_count": 89,
     "metadata": {},
     "output_type": "execute_result"
    }
   ],
   "source": [
    "nodes[0][2]"
   ]
  },
  {
   "cell_type": "code",
   "execution_count": 90,
   "id": "d2f75821",
   "metadata": {},
   "outputs": [
    {
     "data": {
      "text/plain": [
       "{0: ['ap'],\n",
       " 1: ['ap'],\n",
       " 2: ['ap'],\n",
       " 3: ['ap'],\n",
       " 4: ['ap'],\n",
       " 5: ['ap'],\n",
       " 6: ['ap'],\n",
       " 7: ['ap'],\n",
       " 8: ['ap'],\n",
       " 9: ['ap'],\n",
       " 10: ['ap'],\n",
       " 11: ['ap']}"
      ]
     },
     "execution_count": 90,
     "metadata": {},
     "output_type": "execute_result"
    }
   ],
   "source": [
    "node_info = {i: [\"ap\"] for i in range(num_nodes_y * num_nodes_x)}\n",
    "node_info"
   ]
  },
  {
   "cell_type": "code",
   "execution_count": 91,
   "id": "b0e94bf0",
   "metadata": {},
   "outputs": [
    {
     "data": {
      "text/plain": [
       "{'north': 8, 'east': 11, 'south': 6, 'west': 3}"
      ]
     },
     "execution_count": 91,
     "metadata": {},
     "output_type": "execute_result"
    }
   ],
   "source": [
    "def find_neighbors(row, col):\n",
    "    \"\"\"!!!!!!!!!!!! Remeber that it returns node number not index !!!!!!!!!!!!\"\"\"\n",
    "    north = nodes[row-1][col] if row > 0 else None\n",
    "    south = nodes[row+1][col] if row < num_nodes_y - 1 else None\n",
    "    west = nodes[row][col-1] if col > 0 else None\n",
    "    east = nodes[row][col+1] if col < num_nodes_x - 1 else None\n",
    "    return {'north': north, 'east': east, 'south': south, 'west': west}\n",
    "\n",
    "find_neighbors(1,1)"
   ]
  },
  {
   "cell_type": "code",
   "execution_count": 92,
   "id": "61a918ea",
   "metadata": {},
   "outputs": [
    {
     "data": {
      "text/plain": [
       "8"
      ]
     },
     "execution_count": 92,
     "metadata": {},
     "output_type": "execute_result"
    }
   ],
   "source": [
    "nodes[0][1]"
   ]
  },
  {
   "cell_type": "code",
   "execution_count": 93,
   "id": "d593e8c7",
   "metadata": {},
   "outputs": [
    {
     "data": {
      "text/plain": [
       "[0.1, 0.1, 0.1]"
      ]
     },
     "execution_count": 93,
     "metadata": {},
     "output_type": "execute_result"
    }
   ],
   "source": [
    "node_lengths_x = [round(del_x,3)] * num_nodes_x\n",
    "node_lengths_x"
   ]
  },
  {
   "cell_type": "code",
   "execution_count": 94,
   "id": "7e9e9c39",
   "metadata": {},
   "outputs": [
    {
     "data": {
      "text/plain": [
       "[0.1, 0.1, 0.1, 0.1]"
      ]
     },
     "execution_count": 94,
     "metadata": {},
     "output_type": "execute_result"
    }
   ],
   "source": [
    "node_lengths_y = [round(del_x,3)] * num_nodes_y\n",
    "node_lengths_y"
   ]
  },
  {
   "cell_type": "code",
   "execution_count": 95,
   "id": "e8c93c4c",
   "metadata": {},
   "outputs": [],
   "source": [
    "node_lengths_x = []"
   ]
  },
  {
   "cell_type": "code",
   "execution_count": 96,
   "id": "81ef4090",
   "metadata": {},
   "outputs": [
    {
     "data": {
      "text/plain": [
       "[]"
      ]
     },
     "execution_count": 96,
     "metadata": {},
     "output_type": "execute_result"
    }
   ],
   "source": [
    "half_length_x = [i/2 for i in node_lengths_x]\n",
    "half_length_x"
   ]
  },
  {
   "cell_type": "code",
   "execution_count": 97,
   "id": "a9c2dd4f",
   "metadata": {},
   "outputs": [
    {
     "data": {
      "text/plain": [
       "[0.05, 0.05, 0.05, 0.05]"
      ]
     },
     "execution_count": 97,
     "metadata": {},
     "output_type": "execute_result"
    }
   ],
   "source": [
    "half_length_y = [i/2 for i in node_lengths_y]\n",
    "half_length_y"
   ]
  },
  {
   "cell_type": "code",
   "execution_count": 98,
   "id": "eba1b742",
   "metadata": {},
   "outputs": [
    {
     "data": {
      "text/plain": [
       "[]"
      ]
     },
     "execution_count": 98,
     "metadata": {},
     "output_type": "execute_result"
    }
   ],
   "source": [
    "PE_WP = []\n",
    "for i in range(len(half_length_x)):\n",
    "    if i == 0:\n",
    "        PE_WP.append([half_length_x[i], half_length_x[i] + half_length_x[i+1]])\n",
    "    elif i == len(half_length_x)-1:\n",
    "        PE_WP.append([half_length_x[i] + half_length_x[i-1], half_length_x[i]])\n",
    "    else:\n",
    "        PE_WP.append([half_length_x[i] + half_length_x[i-1], half_length_x[i] + half_length_x[i+1]])\n",
    "PE_WP"
   ]
  },
  {
   "cell_type": "code",
   "execution_count": 99,
   "id": "be68cee4",
   "metadata": {},
   "outputs": [
    {
     "data": {
      "text/plain": [
       "[[0.05, 0.1], [0.1, 0.1], [0.1, 0.1], [0.1, 0.05]]"
      ]
     },
     "execution_count": 99,
     "metadata": {},
     "output_type": "execute_result"
    }
   ],
   "source": [
    "PS_NP = []\n",
    "for i in range(len(half_length_y)):\n",
    "    if i == 0:\n",
    "        PS_NP.append([half_length_y[i], half_length_y[i] + half_length_y[i+1]])\n",
    "    elif i == len(half_length_y)-1:\n",
    "        PS_NP.append([half_length_y[i] + half_length_y[i-1], half_length_y[i]])\n",
    "    else:\n",
    "        PS_NP.append([half_length_y[i] + half_length_y[i-1], half_length_y[i] + half_length_y[i+1]])\n",
    "PS_NP"
   ]
  },
  {
   "cell_type": "code",
   "execution_count": 100,
   "id": "6246e9c1",
   "metadata": {},
   "outputs": [],
   "source": [
    "# del_x = [0.05, 0.1, 0.1]\n",
    "# del_y = [0.1, 0.1, 0.05]"
   ]
  },
  {
   "cell_type": "code",
   "execution_count": 101,
   "id": "4eba0946",
   "metadata": {},
   "outputs": [
    {
     "data": {
      "text/plain": [
       "array([[0., 0., 0., 0., 0., 0., 0., 0., 0., 0., 0., 0.],\n",
       "       [0., 0., 0., 0., 0., 0., 0., 0., 0., 0., 0., 0.],\n",
       "       [0., 0., 0., 0., 0., 0., 0., 0., 0., 0., 0., 0.],\n",
       "       [0., 0., 0., 0., 0., 0., 0., 0., 0., 0., 0., 0.],\n",
       "       [0., 0., 0., 0., 0., 0., 0., 0., 0., 0., 0., 0.],\n",
       "       [0., 0., 0., 0., 0., 0., 0., 0., 0., 0., 0., 0.],\n",
       "       [0., 0., 0., 0., 0., 0., 0., 0., 0., 0., 0., 0.],\n",
       "       [0., 0., 0., 0., 0., 0., 0., 0., 0., 0., 0., 0.],\n",
       "       [0., 0., 0., 0., 0., 0., 0., 0., 0., 0., 0., 0.],\n",
       "       [0., 0., 0., 0., 0., 0., 0., 0., 0., 0., 0., 0.],\n",
       "       [0., 0., 0., 0., 0., 0., 0., 0., 0., 0., 0., 0.],\n",
       "       [0., 0., 0., 0., 0., 0., 0., 0., 0., 0., 0., 0.]])"
      ]
     },
     "execution_count": 101,
     "metadata": {},
     "output_type": "execute_result"
    }
   ],
   "source": [
    "coef_matrix = np.zeros((num_nodes_y*num_nodes_x, num_nodes_y*num_nodes_x))\n",
    "coef_matrix"
   ]
  },
  {
   "cell_type": "code",
   "execution_count": 102,
   "id": "84e71b9f",
   "metadata": {},
   "outputs": [
    {
     "data": {
      "text/plain": [
       "array([0., 0., 0., 0., 0., 0., 0., 0., 0., 0., 0., 0.])"
      ]
     },
     "execution_count": 102,
     "metadata": {},
     "output_type": "execute_result"
    }
   ],
   "source": [
    "Su_vector = np.zeros_like(coef_matrix[:,0])\n",
    "Su_vector"
   ]
  },
  {
   "cell_type": "code",
   "execution_count": 103,
   "id": "45f68c67",
   "metadata": {},
   "outputs": [
    {
     "name": "stdout",
     "output_type": "stream",
     "text": [
      "[ 4  8 12]\n",
      "[ 3  7 11]\n",
      "[ 2  6 10]\n",
      "[1 5 9]\n"
     ]
    }
   ],
   "source": [
    "for i in nodes:\n",
    "    print(i)"
   ]
  },
  {
   "cell_type": "code",
   "execution_count": 104,
   "id": "30f8b32c",
   "metadata": {},
   "outputs": [],
   "source": [
    "del_xs = [0.05, 0.1, 0.1, 0.1]\n",
    "del_ys = [0.1, 0.1, 0.1, 0.05]"
   ]
  },
  {
   "cell_type": "code",
   "execution_count": 105,
   "id": "edf01f9b",
   "metadata": {},
   "outputs": [],
   "source": [
    "# 0 -> 3,0\n",
    "# 1 -> 2,0\n",
    "# 2 -> 1,0\n",
    "# 3 -> 0,0\n",
    "# 4 -> 3,1"
   ]
  },
  {
   "cell_type": "code",
   "execution_count": 106,
   "id": "3b82c0fe",
   "metadata": {},
   "outputs": [
    {
     "data": {
      "text/plain": [
       "(2, 1)"
      ]
     },
     "execution_count": 106,
     "metadata": {},
     "output_type": "execute_result"
    }
   ],
   "source": [
    "def linear_to_flipped_coords(index, num_rows):\n",
    "    col = index // num_rows\n",
    "    row_from_bottom = index % num_rows\n",
    "    row = num_rows - 1 - row_from_bottom\n",
    "    return (row, col)\n",
    "\n",
    "linear_to_flipped_coords(5, 4)"
   ]
  },
  {
   "cell_type": "code",
   "execution_count": 107,
   "id": "600f1067",
   "metadata": {},
   "outputs": [
    {
     "data": {
      "text/plain": [
       "3"
      ]
     },
     "execution_count": 107,
     "metadata": {},
     "output_type": "execute_result"
    }
   ],
   "source": [
    "num_nodes_x"
   ]
  },
  {
   "cell_type": "code",
   "execution_count": 108,
   "id": "9b768c64",
   "metadata": {},
   "outputs": [],
   "source": [
    "nodes = np.array(nodes)\n",
    "\n",
    "for node_idx in range(num_nodes_x * num_nodes_y):\n",
    "    node_num =  node_idx   # Only used to save in coeff matrix\n",
    "    cell_x, cell_y = linear_to_flipped_coords(node_idx, 4)\n",
    "\n",
    "    a_N = 0\n",
    "    a_S = 0\n",
    "    a_E = 0\n",
    "    a_W = 0\n",
    "\n",
    "    nei_dict = find_neighbors(cell_x, cell_y)\n",
    "    Area_y = thickness * del_y\n",
    "    Area_x = thickness * del_x\n",
    "\n",
    "    if nei_dict['west'] is None and nei_dict['south'] is None:  # bottom-left corner\n",
    "        a_E = (k * Area_x) / del_x\n",
    "        a_N = (k * Area_y) / del_y\n",
    "        a_S = 0\n",
    "        a_W = 0\n",
    "        \n",
    "        a_P = a_E + a_N + a_S + a_W\n",
    "        Su = q_W * thickness * del_x\n",
    "        \n",
    "        coef_matrix[node_num, node_num] = a_P\n",
    "        coef_matrix[node_num, nei_dict['north'] - 1] = a_N\n",
    "        coef_matrix[node_num, nei_dict['east'] - 1] = a_E\n",
    "        Su_vector[node_num] = Su\n",
    "\n",
    "    elif nei_dict['west'] is None and nei_dict['south'] is not None and nei_dict['north'] is not None:  # left edge except bottom and top edge\n",
    "        a_E = (k * Area_x) / del_x\n",
    "        a_S = (k * Area_y) / del_y\n",
    "        a_N = (k * Area_y) / del_y\n",
    "        a_W = 0\n",
    "        \n",
    "        a_P = a_E + a_N + a_S + a_W\n",
    "        Su = q_W * thickness * del_x\n",
    "        \n",
    "        coef_matrix[node_num, node_num] = a_P\n",
    "        coef_matrix[node_num, nei_dict['north'] - 1] = a_N\n",
    "        coef_matrix[node_num, nei_dict['east'] - 1] = a_E\n",
    "        coef_matrix[node_num, nei_dict['south'] - 1] = a_S\n",
    "        Su_vector[node_num] = Su\n",
    "        \n",
    "    elif nei_dict['west'] is None and nei_dict['north'] is None:  # top-left corner (with Dirichlet top boundary)\n",
    "        a_N = (k * Area_y) / (del_y / 2)  # half cell size for Dirichlet face\n",
    "        a_E = (k * Area_x) / del_x\n",
    "        a_S = (k * Area_y) / del_y\n",
    "        a_W = 0\n",
    "        \n",
    "        a_P = a_E + a_N + a_S + a_W\n",
    "        Su = (q_W * thickness * del_x) + a_N * T_A  # include Dirichlet contribution\n",
    "        \n",
    "        coef_matrix[node_num, node_num] = a_P\n",
    "        coef_matrix[node_num, nei_dict['east'] - 1] = a_E\n",
    "        coef_matrix[node_num, nei_dict['south'] - 1] = a_S\n",
    "        Su_vector[node_num] = Su\n",
    "\n",
    "    elif nei_dict['north'] is None and nei_dict['west'] is not None:  # top edge except top-left\n",
    "        a_N = (k * Area_y) / (del_y / 2)  # Dirichlet boundary\n",
    "        a_E = (k * Area_x) / del_x if nei_dict['east'] is not None else 0\n",
    "        a_S = (k * Area_y) / del_y if nei_dict['south'] is not None else 0\n",
    "        a_W = (k * Area_x) / del_x if nei_dict['west'] is not None else 0\n",
    "        \n",
    "        a_P = a_E + a_N + a_S + a_W\n",
    "        Su = a_N * T_A  # Only Dirichlet contribution, no west flux\n",
    "        \n",
    "        coef_matrix[node_num, node_num] = a_P\n",
    "        if nei_dict['east'] is not None:\n",
    "            coef_matrix[node_num, nei_dict['east'] - 1] = a_E\n",
    "        if nei_dict['south'] is not None:\n",
    "            coef_matrix[node_num, nei_dict['south'] - 1] = a_S\n",
    "        if nei_dict['west'] is not None:\n",
    "            coef_matrix[node_num, nei_dict['west'] - 1] = a_W\n",
    "        Su_vector[node_num] = Su\n",
    "\n",
    "\n",
    "    else:  # Interior or other edges not handled above\n",
    "        # Assign available neighbor coefficients safely\n",
    "        if nei_dict['north'] is not None:\n",
    "            a_N = (k * Area_y) / del_y\n",
    "            coef_matrix[node_num, nei_dict['north'] - 1] = a_N\n",
    "        else:\n",
    "            a_N = 0\n",
    "\n",
    "        if nei_dict['south'] is not None:\n",
    "            a_S = (k * Area_y) / del_y\n",
    "            coef_matrix[node_num, nei_dict['south'] - 1] = a_S\n",
    "        else:\n",
    "            a_S = 0\n",
    "\n",
    "        if nei_dict['east'] is not None:\n",
    "            a_E = (k * Area_x) / del_x\n",
    "            coef_matrix[node_num, nei_dict['east'] - 1] = a_E\n",
    "        else:\n",
    "            a_E = 0\n",
    "\n",
    "        if nei_dict['west'] is not None:\n",
    "            a_W = (k * Area_x) / del_x\n",
    "            coef_matrix[node_num, nei_dict['west'] - 1] = a_W\n",
    "        else:\n",
    "            a_W = 0\n",
    "        \n",
    "        a_P = a_E + a_N + a_S + a_W\n",
    "        coef_matrix[node_num, node_num] = a_P\n",
    "        \n",
    "        # Source term 0 for interior nodes, add if needed here\n",
    "        Su_vector[node_num] = 0"
   ]
  },
  {
   "cell_type": "code",
   "execution_count": 109,
   "id": "263074b2",
   "metadata": {},
   "outputs": [
    {
     "data": {
      "text/plain": [
       "{'north': None, 'east': None, 'south': 11, 'west': 8}"
      ]
     },
     "execution_count": 109,
     "metadata": {},
     "output_type": "execute_result"
    }
   ],
   "source": [
    "nei_dict"
   ]
  },
  {
   "cell_type": "code",
   "execution_count": 110,
   "id": "679a7109",
   "metadata": {},
   "outputs": [
    {
     "data": {
      "text/plain": [
       "array([ 500.,  500.,  500., 2500.,    0.,    0.,    0., 2000.,    0.,\n",
       "          0.,    0., 2000.])"
      ]
     },
     "execution_count": 110,
     "metadata": {},
     "output_type": "execute_result"
    }
   ],
   "source": [
    "Su_vector"
   ]
  },
  {
   "cell_type": "code",
   "execution_count": 111,
   "id": "4bf98b93",
   "metadata": {},
   "outputs": [
    {
     "data": {
      "text/plain": [
       "array([[ 20., -10.,  -0.,  -0., -10.,  -0.,  -0.,  -0.,  -0.,  -0.,  -0.,\n",
       "         -0.],\n",
       "       [-10.,  30., -10.,  -0.,  -0., -10.,  -0.,  -0.,  -0.,  -0.,  -0.,\n",
       "         -0.],\n",
       "       [ -0., -10.,  30., -10.,  -0.,  -0., -10.,  -0.,  -0.,  -0.,  -0.,\n",
       "         -0.],\n",
       "       [ -0.,  -0., -10.,  40.,  -0.,  -0.,  -0., -10.,  -0.,  -0.,  -0.,\n",
       "         -0.],\n",
       "       [-10.,  -0.,  -0.,  -0.,  30., -10.,  -0.,  -0., -10.,  -0.,  -0.,\n",
       "         -0.],\n",
       "       [ -0., -10.,  -0.,  -0., -10.,  40., -10.,  -0.,  -0., -10.,  -0.,\n",
       "         -0.],\n",
       "       [ -0.,  -0., -10.,  -0.,  -0., -10.,  40., -10.,  -0.,  -0., -10.,\n",
       "         -0.],\n",
       "       [ -0.,  -0.,  -0., -10.,  -0.,  -0., -10.,  50.,  -0.,  -0.,  -0.,\n",
       "        -10.],\n",
       "       [ -0.,  -0.,  -0.,  -0., -10.,  -0.,  -0.,  -0.,  20., -10.,  -0.,\n",
       "         -0.],\n",
       "       [ -0.,  -0.,  -0.,  -0.,  -0., -10.,  -0.,  -0., -10.,  30., -10.,\n",
       "         -0.],\n",
       "       [ -0.,  -0.,  -0.,  -0.,  -0.,  -0., -10.,  -0.,  -0., -10.,  30.,\n",
       "        -10.],\n",
       "       [ -0.,  -0.,  -0.,  -0.,  -0.,  -0.,  -0., -10.,  -0.,  -0., -10.,\n",
       "         40.]])"
      ]
     },
     "execution_count": 111,
     "metadata": {},
     "output_type": "execute_result"
    }
   ],
   "source": [
    "# Making non diagnol element negetive\n",
    "mask = ~np.eye(coef_matrix.shape[0], dtype=bool)\n",
    "coef_matrix[mask] = -coef_matrix[mask]\n",
    "\n",
    "coef_matrix"
   ]
  },
  {
   "cell_type": "code",
   "execution_count": 112,
   "id": "a15ec5e6",
   "metadata": {},
   "outputs": [
    {
     "data": {
      "image/png": "[encoded data removed]",
      "text/plain": [
       "<Figure size 800x600 with 2 Axes>"
      ]
     },
     "metadata": {},
     "output_type": "display_data"
    }
   ],
   "source": [
    "def Gauss_Sadel(A, B, X, tolerance=1e-8, max_loops=1000):\n",
    "    relative_error = np.inf\n",
    "    loops_taken = 0\n",
    "\n",
    "    while relative_error > tolerance:\n",
    "        X_old = X.copy()\n",
    "        for j in range(len(A)):\n",
    "            sigma = 0.0\n",
    "            for i in range(len(A)):\n",
    "                if i != j:\n",
    "                    sigma += A[j, i] * X[i]\n",
    "            X[j] = (B[j] - sigma) / A[j, j]\n",
    "\n",
    "        loops_taken += 1\n",
    "        if max_loops and loops_taken >= max_loops:\n",
    "            break\n",
    "\n",
    "        relative_error = np.linalg.norm(X - X_old, np.inf) / (np.linalg.norm(X, np.inf) + 1e-12)\n",
    "\n",
    "    return X, loops_taken\n",
    "\n",
    "X, loops_taken = Gauss_Sadel(coef_matrix, Su_vector, np.zeros_like(Su_vector),\n",
    "                             tolerance=1e-12, max_loops=100)\n",
    "\n",
    "# X = np.fliplr(X.reshape(4,3)).transpose()\n",
    "X = X.reshape(4,3)\n",
    "# Use actual domain dimensions\n",
    "dx = del_x  # Use your calculated grid spacing (0.1m)\n",
    "dy = del_y  # Use your calculated grid spacing (0.1m)\n",
    "\n",
    "nx = X.shape[1]  # Should be 3\n",
    "ny = X.shape[0]  # Should be 4\n",
    "\n",
    "# Create coordinate arrays based on actual domain\n",
    "x = np.linspace(0, Lx, nx)  # 0 to 0.3m\n",
    "y = np.linspace(0, Ly, ny)  # 0 to 0.4m\n",
    "X_grid, Y_grid = np.meshgrid(x, y)\n",
    "\n",
    "plt.figure(figsize=(8,6))\n",
    "contour = plt.contourf(X_grid, Y_grid, X, levels=20, cmap='inferno')\n",
    "plt.colorbar(contour, label='Temperature (°C)')\n",
    "plt.xlabel('x (m)')\n",
    "plt.ylabel('y (m)')\n",
    "plt.title('Temperature Distribution from Gauss-Seidel Solution')\n",
    "plt.axis('equal')  # Keep aspect ratio correct\n",
    "plt.show()"
   ]
  }
 ],
 "metadata": {
  "kernelspec": {
   "display_name": "Python 3",
   "language": "python",
   "name": "python3"
  },
  "language_info": {
   "codemirror_mode": {
    "name": "ipython",
    "version": 3
   },
   "file_extension": ".py",
   "mimetype": "text/x-python",
   "name": "python",
   "nbconvert_exporter": "python",
   "pygments_lexer": "ipython3",
   "version": "3.11.5"
  }
 },
 "nbformat": 4,
 "nbformat_minor": 5
}
