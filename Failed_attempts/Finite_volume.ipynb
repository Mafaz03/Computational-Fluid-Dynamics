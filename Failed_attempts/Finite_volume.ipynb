{
 "cells": [
  {
   "cell_type": "code",
   "execution_count": 1,
   "id": "9fb0cbca",
   "metadata": {},
   "outputs": [],
   "source": [
    "import numpy as np\n",
    "import matplotlib.pyplot as plt"
   ]
  },
  {
   "cell_type": "code",
   "execution_count": null,
   "id": "1f3fa08d",
   "metadata": {},
   "outputs": [],
   "source": [
    "dx = 5\n",
    "dy = 5\n",
    "\n",
    "Lx = 100\n",
    "Ly = 100\n",
    "\n",
    "class node:\n",
    "    def __init__(self):\n",
    "        self.node_pos = None\n",
    "        self.Cell_size_x = 5\n",
    "        self.Cell_size_y = 5\n",
    "        self.grid_face = None\n",
    "        self.node_type = None \n",
    "        self.Gx = None # Location along the x axis\n",
    "        self.Gy = None # Location along the y axis\n",
    "        self.edge_color = \"blue\"\n",
    "\n",
    "        # self.edge_node_pos = []"
   ]
  },
  {
   "cell_type": "code",
   "execution_count": 4,
   "id": "f055fed9",
   "metadata": {},
   "outputs": [
    {
     "data": {
      "text/plain": [
       "(20, 20)"
      ]
     },
     "execution_count": 4,
     "metadata": {},
     "output_type": "execute_result"
    }
   ],
   "source": [
    "mesh = []\n",
    "for y in range(int(Ly/dy)):\n",
    "    mesh.append([node() for x in range(int(Lx/dx))])\n",
    "# Basically the shape is (Lx / dx) x (Ly x dx)\n",
    "\n",
    "mesh = np.array(mesh)\n",
    "mesh.shape"
   ]
  },
  {
   "cell_type": "code",
   "execution_count": 5,
   "id": "8b861c54",
   "metadata": {},
   "outputs": [],
   "source": [
    "x_val = 0\n",
    "y_val = 0\n",
    "\n",
    "# the origin of the x and y axis is on the bottom left\n",
    "for y in range(mesh.shape[0]):\n",
    "    for x in range(mesh.shape[1]):\n",
    "        cell = mesh[y][x]\n",
    "        cell.Gx = x_val\n",
    "        cell.Gy = y_val\n",
    "\n",
    "        x_val += cell.Cell_size_x\n",
    "    x_val = 0\n",
    "    y_val += cell.Cell_size_y"
   ]
  },
  {
   "cell_type": "code",
   "execution_count": 199,
   "id": "4ddf02da",
   "metadata": {},
   "outputs": [
    {
     "data": {
      "text/plain": [
       "(0, 20)"
      ]
     },
     "execution_count": 199,
     "metadata": {},
     "output_type": "execute_result"
    }
   ],
   "source": [
    "x, y = 4, 0\n",
    "mesh[x][y].Gx, mesh[x][y].Gy"
   ]
  },
  {
   "cell_type": "code",
   "execution_count": 6,
   "id": "98e2ba55",
   "metadata": {},
   "outputs": [],
   "source": [
    "plot_size_x = 0\n",
    "plot_size_y = 0\n",
    "\n",
    "run_x = True\n",
    "\n",
    "for y in range(mesh.shape[0]):\n",
    "    if run_x == True:\n",
    "        for x in range(mesh.shape[1]):\n",
    "            plot_size_x += mesh[y][x].Cell_size_x\n",
    "    run_x = False\n",
    "\n",
    "    plot_size_y += mesh[y][x].Cell_size_y"
   ]
  },
  {
   "cell_type": "code",
   "execution_count": 201,
   "id": "397a729b",
   "metadata": {},
   "outputs": [
    {
     "data": {
      "text/plain": [
       "(45, 60)"
      ]
     },
     "execution_count": 201,
     "metadata": {},
     "output_type": "execute_result"
    }
   ],
   "source": [
    "plot_size_x, plot_size_y"
   ]
  },
  {
   "cell_type": "code",
   "execution_count": 24,
   "id": "3d38f6c5",
   "metadata": {},
   "outputs": [
    {
     "name": "stdout",
     "output_type": "stream",
     "text": [
      "[4.375, 4.375, 7.5, 4.375, 4.375]\n",
      "Sum: 25.0\n"
     ]
    }
   ],
   "source": [
    "def stretch_one_point(arr, index, percent):\n",
    "    arr = arr.copy()\n",
    "    total = sum(arr)\n",
    "\n",
    "    # Stretch the chosen point\n",
    "    increase = arr[index] * (percent / 100.0)\n",
    "    arr[index] += increase\n",
    "\n",
    "    # Distribute decrease across other elements\n",
    "    decrease = increase / (len(arr) - 1)\n",
    "    for i in range(len(arr)):\n",
    "        if i != index:\n",
    "            arr[i] -= decrease\n",
    "\n",
    "    # Ensure sum is preserved (floating-point safe)\n",
    "    diff = total - sum(arr)\n",
    "    arr[index] += diff\n",
    "\n",
    "    return arr\n",
    "\n",
    "\n",
    "# Example usage\n",
    "x_axis = [5, 5, 5, 5, 5]\n",
    "result = stretch_one_point(x_axis, index=2, percent=50)  # Stretch 3rd element by 10%\n",
    "print(result)\n",
    "print(\"Sum:\", sum(result))"
   ]
  },
  {
   "cell_type": "code",
   "execution_count": 21,
   "id": "a208edbe",
   "metadata": {},
   "outputs": [
    {
     "data": {
      "text/plain": [
       "250.0"
      ]
     },
     "execution_count": 21,
     "metadata": {},
     "output_type": "execute_result"
    }
   ],
   "source": [
    "sum_x = x_axis.sum()\n",
    "sum_x"
   ]
  },
  {
   "cell_type": "code",
   "execution_count": null,
   "id": "f912eace",
   "metadata": {},
   "outputs": [],
   "source": [
    "degrade = 0.1"
   ]
  },
  {
   "cell_type": "code",
   "execution_count": null,
   "id": "c597bacb",
   "metadata": {},
   "outputs": [],
   "source": [
    "def strech(x, y):\n",
    "    "
   ]
  },
  {
   "cell_type": "code",
   "execution_count": 11,
   "id": "c866781e",
   "metadata": {},
   "outputs": [
    {
     "data": {
      "image/png": "[encoded data removed]",
      "text/plain": [
       "<Figure size 1000x1000 with 1 Axes>"
      ]
     },
     "metadata": {},
     "output_type": "display_data"
    }
   ],
   "source": [
    "fig, ax = plt.subplots(figsize=(10, 10))  # width=10 inches, height=10 inches\n",
    "\n",
    "canvas = np.ones((plot_size_y, plot_size_x))\n",
    "ax.imshow(canvas, origin='lower', cmap='gray',\n",
    "          extent=[0, plot_size_x, 0, plot_size_x])\n",
    "\n",
    "for y in range(mesh.shape[0]):\n",
    "    for x in range(mesh.shape[1]):\n",
    "        cell = mesh[y][x]\n",
    "\n",
    "        # Draw circle at cell center\n",
    "        circle = plt.Circle((cell.Gx + dx/2, cell.Gy + dy/2), 0.1, color='red', fill=False)\n",
    "        ax.add_patch(circle)\n",
    "\n",
    "        # Draw rectangle for each cell\n",
    "        rect = plt.Rectangle((cell.Gx, cell.Gy), dx, dy, linewidth=1, edgecolor=cell.edge_color, facecolor='none')\n",
    "        ax.add_patch(rect)\n",
    "\n",
    "plt.show()"
   ]
  },
  {
   "cell_type": "code",
   "execution_count": null,
   "id": "6a05fe09",
   "metadata": {},
   "outputs": [],
   "source": []
  }
 ],
 "metadata": {
  "kernelspec": {
   "display_name": "Python 3",
   "language": "python",
   "name": "python3"
  },
  "language_info": {
   "codemirror_mode": {
    "name": "ipython",
    "version": 3
   },
   "file_extension": ".py",
   "mimetype": "text/x-python",
   "name": "python",
   "nbconvert_exporter": "python",
   "pygments_lexer": "ipython3",
   "version": "3.11.5"
  }
 },
 "nbformat": 4,
 "nbformat_minor": 5
}
