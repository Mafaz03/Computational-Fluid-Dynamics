{
 "cells": [
  {
   "cell_type": "code",
   "execution_count": 21,
   "id": "edf5fb42",
   "metadata": {},
   "outputs": [
    {
     "data": {
      "image/png": "[encoded data removed]",
      "text/plain": [
       "<Figure size 1000x1000 with 1 Axes>"
      ]
     },
     "metadata": {},
     "output_type": "display_data"
    }
   ],
   "source": [
    "import numpy as np\n",
    "import matplotlib.pyplot as plt\n",
    "\n",
    "dx = 5\n",
    "dy = 5\n",
    "\n",
    "Lx = 100\n",
    "Ly = 100\n",
    "\n",
    "class node:\n",
    "    def __init__(self):\n",
    "        self.Cell_size_x = dx\n",
    "        self.Cell_size_y = dy\n",
    "        self.Gx = None  # Center X\n",
    "        self.Gy = None  # Center Y\n",
    "        self.edge_color = \"blue\"\n",
    "\n",
    "# Create mesh\n",
    "mesh = np.array([[node() for x in range(int(Lx/dx))] for y in range(int(Ly/dy))])\n",
    "\n",
    "def stretch_one_point(arr, index, percent):\n",
    "    \"\"\"Stretch/squeeze one element of arr by % and adjust others to preserve sum\"\"\"\n",
    "    arr = arr.copy()\n",
    "    total = sum(arr)\n",
    "\n",
    "    # Stretch the chosen point\n",
    "    increase = arr[index] * (percent / 100.0)\n",
    "    arr[index] += increase\n",
    "\n",
    "    # Distribute decrease across other elements\n",
    "    decrease = increase / (len(arr) - 1)\n",
    "    for i in range(len(arr)):\n",
    "        if i != index:\n",
    "            arr[i] -= decrease\n",
    "\n",
    "    # Fix floating-point mismatch\n",
    "    diff = total - sum(arr)\n",
    "    arr[index] += diff\n",
    "    return arr\n",
    "\n",
    "def update_mesh_geometry(mesh, Lx, Ly):\n",
    "    \"\"\"Recompute Gx and Gy centers after resizing\"\"\"\n",
    "    Ny, Nx = mesh.shape\n",
    "    \n",
    "    # X direction\n",
    "    for y in range(Ny):\n",
    "        current_x = 0\n",
    "        for x in range(Nx):\n",
    "            mesh[y][x].Gx = current_x + mesh[y][x].Cell_size_x/2.0\n",
    "            current_x += mesh[y][x].Cell_size_x\n",
    "\n",
    "    # Y direction\n",
    "    for x in range(Nx):\n",
    "        current_y = 0\n",
    "        for y in range(Ny):\n",
    "            mesh[y][x].Gy = current_y + mesh[y][x].Cell_size_y/2.0\n",
    "            current_y += mesh[y][x].Cell_size_y\n",
    "\n",
    "def stretch_mesh(mesh, axis, index, percent):\n",
    "    \"\"\"\n",
    "    axis = 'x' or 'y'\n",
    "    index = index to stretch/squeeze\n",
    "    percent = +ve (stretch), -ve (squeeze)\n",
    "    \"\"\"\n",
    "    Ny, Nx = mesh.shape\n",
    "    \n",
    "    if axis == 'x':\n",
    "        x_array = [mesh[0][x].Cell_size_x for x in range(Nx)]\n",
    "        stretched = stretch_one_point(x_array, index, percent)\n",
    "        for x in range(Nx):\n",
    "            for y in range(Ny):\n",
    "                mesh[y][x].Cell_size_x = stretched[x]\n",
    "\n",
    "    elif axis == 'y':\n",
    "        y_array = [mesh[y][0].Cell_size_y for y in range(Ny)]\n",
    "        stretched = stretch_one_point(y_array, index, percent)\n",
    "        for y in range(Ny):\n",
    "            for x in range(Nx):\n",
    "                mesh[y][x].Cell_size_y = stretched[y]\n",
    "\n",
    "    update_mesh_geometry(mesh, Lx, Ly)\n",
    "\n",
    "\n",
    "# Initial uniform mesh\n",
    "update_mesh_geometry(mesh, Lx, Ly)\n",
    "\n",
    "# Example: squeeze 5th column in x-direction by 50%\n",
    "stretch_mesh(mesh, axis='x', index=5, percent=-50)\n",
    "\n",
    "# Example: stretch 10th row in y-direction by 100%\n",
    "stretch_mesh(mesh, axis='y', index=10, percent=100)\n",
    "\n",
    "\n",
    "# Plot\n",
    "fig, ax = plt.subplots(figsize=(10, 10))\n",
    "ax.set_aspect(\"equal\")\n",
    "\n",
    "for y in range(mesh.shape[0]):\n",
    "    for x in range(mesh.shape[1]):\n",
    "        cell = mesh[y][x]\n",
    "        rect = plt.Rectangle((cell.Gx - cell.Cell_size_x/2,\n",
    "                              cell.Gy - cell.Cell_size_y/2),\n",
    "                             cell.Cell_size_x, cell.Cell_size_y,\n",
    "                             linewidth=0.5, edgecolor=cell.edge_color, facecolor='none')\n",
    "        ax.add_patch(rect)\n",
    "\n",
    "plt.show()"
   ]
  },
  {
   "cell_type": "code",
   "execution_count": 16,
   "id": "39ec3cd4",
   "metadata": {},
   "outputs": [
    {
     "ename": "ValueError",
     "evalue": "not enough values to unpack (expected 2, got 1)",
     "output_type": "error",
     "traceback": [
      "\u001b[0;31m---------------------------------------------------------------------------\u001b[0m",
      "\u001b[0;31mValueError\u001b[0m                                Traceback (most recent call last)",
      "Cell \u001b[0;32mIn[16], line 1\u001b[0m\n\u001b[0;32m----> 1\u001b[0m \u001b[38;5;28;01mfor\u001b[39;00m x, y \u001b[38;5;129;01min\u001b[39;00m \u001b[38;5;28mzip\u001b[39m(np\u001b[38;5;241m.\u001b[39mmeshgrid(x, y)[\u001b[38;5;241m1\u001b[39m]):\n\u001b[1;32m      2\u001b[0m     \u001b[38;5;28mprint\u001b[39m(x,y)\n",
      "\u001b[0;31mValueError\u001b[0m: not enough values to unpack (expected 2, got 1)"
     ]
    }
   ],
   "source": [
    "for x, y in zip(np.meshgrid(x, y)[1]):\n",
    "    print(x,y)"
   ]
  },
  {
   "cell_type": "code",
   "execution_count": 19,
   "id": "41b717e1",
   "metadata": {},
   "outputs": [
    {
     "data": {
      "text/plain": [
       "20"
      ]
     },
     "execution_count": 19,
     "metadata": {},
     "output_type": "execute_result"
    }
   ],
   "source": [
    "len(np.meshgrid(x, y)[1][0])"
   ]
  }
 ],
 "metadata": {
  "kernelspec": {
   "display_name": "Python 3",
   "language": "python",
   "name": "python3"
  },
  "language_info": {
   "codemirror_mode": {
    "name": "ipython",
    "version": 3
   },
   "file_extension": ".py",
   "mimetype": "text/x-python",
   "name": "python",
   "nbconvert_exporter": "python",
   "pygments_lexer": "ipython3",
   "version": "3.11.5"
  }
 },
 "nbformat": 4,
 "nbformat_minor": 5
}
