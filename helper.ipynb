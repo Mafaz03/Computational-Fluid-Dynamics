{
 "cells": [
  {
   "cell_type": "code",
   "execution_count": 2,
   "id": "f0bb6521",
   "metadata": {},
   "outputs": [],
   "source": [
    "import numpy as np"
   ]
  },
  {
   "cell_type": "code",
   "execution_count": 4,
   "id": "92fb5ea3",
   "metadata": {},
   "outputs": [],
   "source": [
    "arr = [5,5,5,5,5]"
   ]
  },
  {
   "cell_type": "code",
   "execution_count": 5,
   "id": "5bc121db",
   "metadata": {},
   "outputs": [
    {
     "data": {
      "text/plain": [
       "[2.45, 4.9, 7.3500000000000005, 9.8, 0.0]"
      ]
     },
     "execution_count": 5,
     "metadata": {},
     "output_type": "execute_result"
    }
   ],
   "source": [
    "def strech(axis, index, degrade):\n",
    "    axis = np.array(axis, dtype=float)\n",
    "    total = axis.sum()\n",
    "\n",
    "    # Step 1: shrink chosen index\n",
    "    new_value = axis[index] * ((100 - degrade) / 100.0)\n",
    "\n",
    "    # Step 2: leftover\n",
    "    leftover = total - new_value\n",
    "\n",
    "    # Step 3: distribute leftover based on distance from index\n",
    "    n = len(axis)\n",
    "    distances = np.array([abs(i - index) for i in range(n)], dtype=float)\n",
    "    weights = (distances)    # farther gets more\n",
    "    weights[index] = 0\n",
    "\n",
    "    factor = leftover / weights.sum()\n",
    "\n",
    "    new_axis = np.zeros_like(axis)\n",
    "    for i in range(n):\n",
    "        if i == index:\n",
    "            new_axis[i] = new_value\n",
    "        else:\n",
    "            new_axis[i] = factor * weights[i]\n",
    "\n",
    "    return new_axis.tolist()\n",
    "\n",
    "strech(arr, -1, 90)"
   ]
  },
  {
   "cell_type": "code",
   "execution_count": 8,
   "id": "02e24df7",
   "metadata": {},
   "outputs": [
    {
     "name": "stdout",
     "output_type": "stream",
     "text": [
      "[2.2500225e+01 2.2500225e+00 2.2500225e-01 2.2500225e-02 2.2500225e-03]\n"
     ]
    },
    {
     "data": {
      "text/plain": [
       "array([2.2500225e+01, 2.2500225e+00, 2.2500225e-01, 2.2500225e-02,\n",
       "       2.2500225e-03])"
      ]
     },
     "execution_count": 8,
     "metadata": {},
     "output_type": "execute_result"
    }
   ],
   "source": [
    "def degrade_percentage(arr, index, degrade):\n",
    "    assert index in (0, -1)\n",
    "\n",
    "    total_sum = sum(arr)\n",
    "    factor = (100 - degrade) / 100.0\n",
    "    arr = np.array(arr, dtype=float)\n",
    "\n",
    "    # Apply progressive decay\n",
    "    if index == -1:\n",
    "        for idx in range(1, len(arr)):\n",
    "            arr[idx] = arr[idx-1] * factor\n",
    "    else:\n",
    "        for idx in range(len(arr)-2, -1, -1):\n",
    "            arr[idx] = arr[idx+1] * factor\n",
    "\n",
    "    # Scale to preserve total sum\n",
    "    new_total_sum = arr.sum()\n",
    "    arr *= total_sum / new_total_sum\n",
    "    print(arr)\n",
    "    return arr\n",
    "\n",
    "# Example\n",
    "arr = [5,5,5,5,5]\n",
    "degrade_percentage(arr, -1, 90)"
   ]
  },
  {
   "cell_type": "code",
   "execution_count": null,
   "id": "581a8c1f",
   "metadata": {},
   "outputs": [
    {
     "ename": "SyntaxError",
     "evalue": "invalid syntax. Perhaps you forgot a comma? (138340402.py, line 1)",
     "output_type": "error",
     "traceback": [
      "\u001b[0;36m  Cell \u001b[0;32mIn[22], line 1\u001b[0;36m\u001b[0m\n\u001b[0;31m    sum([5.9049 5.4049 4.9549 4.5499 4.1854])\u001b[0m\n\u001b[0m         ^\u001b[0m\n\u001b[0;31mSyntaxError\u001b[0m\u001b[0;31m:\u001b[0m invalid syntax. Perhaps you forgot a comma?\n"
     ]
    }
   ],
   "source": [
    "sum([5.9049, 5.4049, 4.9549, 4.5499, 4.1854])"
   ]
  }
 ],
 "metadata": {
  "kernelspec": {
   "display_name": "Python 3",
   "language": "python",
   "name": "python3"
  },
  "language_info": {
   "codemirror_mode": {
    "name": "ipython",
    "version": 3
   },
   "file_extension": ".py",
   "mimetype": "text/x-python",
   "name": "python",
   "nbconvert_exporter": "python",
   "pygments_lexer": "ipython3",
   "version": "3.11.5"
  }
 },
 "nbformat": 4,
 "nbformat_minor": 5
}
