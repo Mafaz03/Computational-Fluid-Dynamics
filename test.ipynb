{
 "cells": [
  {
   "cell_type": "code",
   "execution_count": 118,
   "id": "cb6a0ed8",
   "metadata": {},
   "outputs": [],
   "source": [
    "import numpy as np\n",
    "import matplotlib.pyplot as plt"
   ]
  },
  {
   "cell_type": "code",
   "execution_count": null,
   "id": "bd541a2e",
   "metadata": {},
   "outputs": [],
   "source": [
    "dx = 5\n",
    "dy = 5\n",
    "\n",
    "Lx = \n",
    "Ly = 50\n",
    "\n",
    "class node:\n",
    "    def __init__(self):\n",
    "        \n",
    "        self.node_pos = None\n",
    "        self.Cell_size_x = 5\n",
    "        self.Cell_size_y = 5\n",
    "        self.grid_face = None\n",
    "        self.node_type = None \n",
    "\n",
    "        self.Gx = None # Location along the x axis\n",
    "        self.Gy = None # Location along the y axis\n",
    "\n",
    "        self.edge_color = \"blue\"\n",
    "\n",
    "        # self.edge_node_pos = []"
   ]
  },
  {
   "cell_type": "code",
   "execution_count": 120,
   "id": "8fce9c8b",
   "metadata": {},
   "outputs": [
    {
     "data": {
      "text/plain": [
       "(10, 10)"
      ]
     },
     "execution_count": 120,
     "metadata": {},
     "output_type": "execute_result"
    }
   ],
   "source": [
    "mesh = np.array([[node() for x in range(int(Lx/dx))] for y in range(int(Ly/dy))])\n",
    "mesh.shape"
   ]
  },
  {
   "cell_type": "code",
   "execution_count": 121,
   "id": "e0c078e2",
   "metadata": {},
   "outputs": [],
   "source": [
    "# Equidistant mesh\n",
    "x_val = 0\n",
    "y_val = 0\n",
    "\n",
    "# the origin of the x and y axis is on the bottom left\n",
    "for y in range(mesh.shape[0]):\n",
    "    for x in range(mesh.shape[1]):\n",
    "        cell = mesh[y][x]\n",
    "        cell.Gx = x_val\n",
    "        cell.Gy = y_val\n",
    "\n",
    "        x_val += cell.Cell_size_x\n",
    "    x_val = 0\n",
    "    y_val += cell.Cell_size_y"
   ]
  },
  {
   "cell_type": "code",
   "execution_count": 122,
   "id": "7bd49201",
   "metadata": {},
   "outputs": [
    {
     "name": "stdout",
     "output_type": "stream",
     "text": [
      "[9.83333333 7.86666667 5.9        3.93333333 1.96666667 0.5       ]\n",
      "Sum: 29.999999999999996\n"
     ]
    }
   ],
   "source": [
    "def stretch_one_point_gradual(arr, index, percent):\n",
    "    \"\"\"\n",
    "    Stretch or shrink one point by `percent`, and reduce others progressively.\n",
    "    Total sum remains the same.\n",
    "    \"\"\"\n",
    "    arr = np.array(arr, dtype=float)\n",
    "    total = arr.sum()\n",
    "    n = len(arr)\n",
    "\n",
    "    # Step 1: Compute new value for chosen index\n",
    "    new_value = arr[index] * (1 + percent / 100.0)\n",
    "\n",
    "    # Step 2: Remaining total for other values\n",
    "    leftover = total - new_value\n",
    "\n",
    "    # Step 3: Progressive weights for others\n",
    "    weights = np.array([i+1 for i in range(n)], dtype=float)\n",
    "    weights[index] = 0\n",
    "\n",
    "    # Step 4: Normalize weights so others sum to leftover\n",
    "    factor = leftover / weights.sum()\n",
    "    for i in range(n):\n",
    "        if i != index:\n",
    "            arr[i] = factor * weights[i]\n",
    "    arr[index] = new_value\n",
    "\n",
    "    # Step 5: Sort if needed\n",
    "    return np.sort(arr)[::-1]\n",
    "\n",
    "# Example usage\n",
    "x_axis = [5, 5, 5, 5, 5, 5]\n",
    "result = stretch_one_point_gradual(x_axis, index=-1, percent=-90)  # Stretch 3rd element by {percent}%\n",
    "print(result)\n",
    "print(\"Sum:\", sum(result))"
   ]
  },
  {
   "cell_type": "code",
   "execution_count": 123,
   "id": "266775f4",
   "metadata": {},
   "outputs": [
    {
     "data": {
      "text/plain": [
       "[5, 5, 5, 5, 5, 5, 5, 5, 5, 5]"
      ]
     },
     "execution_count": 123,
     "metadata": {},
     "output_type": "execute_result"
    }
   ],
   "source": [
    "test_x = [mesh[0][i].Cell_size_x for i in range(mesh.shape[1])]\n",
    "test_x"
   ]
  },
  {
   "cell_type": "code",
   "execution_count": 124,
   "id": "caadd969",
   "metadata": {},
   "outputs": [
    {
     "data": {
      "text/plain": [
       "array([9.5       , 8.44444444, 7.38888889, 6.33333333, 5.27777778,\n",
       "       4.22222222, 3.16666667, 2.5       , 2.11111111, 1.05555556])"
      ]
     },
     "execution_count": 124,
     "metadata": {},
     "output_type": "execute_result"
    }
   ],
   "source": [
    "degrade = -50\n",
    "result = stretch_one_point_gradual(test_x, index=-1, percent=degrade)\n",
    "result"
   ]
  },
  {
   "cell_type": "code",
   "execution_count": 125,
   "id": "5301d58e",
   "metadata": {},
   "outputs": [],
   "source": [
    "for y in range(mesh.shape[0]):\n",
    "    # Extract current row cell sizes\n",
    "    x_array_size = [mesh[y][x].Cell_size_x for x in range(mesh.shape[1])]\n",
    "\n",
    "    # Stretch chosen index\n",
    "    stretched_array_size = stretch_one_point_gradual(x_array_size, index=-1, percent=degrade)\n",
    "\n",
    "    # Assign back the new sizes and recompute bottom-left\n",
    "    gx_temp = 0\n",
    "    for x in range(mesh.shape[1]):\n",
    "        mesh[y][x].Cell_size_x = stretched_array_size[x]\n",
    "        mesh[y][x].Gx = gx_temp   # ✅ bottom-left of this cell\n",
    "        gx_temp += stretched_array_size[x]"
   ]
  },
  {
   "cell_type": "code",
   "execution_count": 126,
   "id": "77b92521",
   "metadata": {},
   "outputs": [
    {
     "data": {
      "text/plain": [
       "1.0555555555555556"
      ]
     },
     "execution_count": 126,
     "metadata": {},
     "output_type": "execute_result"
    }
   ],
   "source": [
    "stretched_array_size[x]"
   ]
  },
  {
   "cell_type": "code",
   "execution_count": 127,
   "id": "6da414a7",
   "metadata": {},
   "outputs": [
    {
     "data": {
      "text/plain": [
       "[9.5,\n",
       " 8.444444444444445,\n",
       " 7.388888888888889,\n",
       " 6.333333333333334,\n",
       " 5.277777777777778,\n",
       " 4.222222222222222,\n",
       " 3.166666666666667,\n",
       " 2.5,\n",
       " 2.111111111111111,\n",
       " 1.0555555555555556]"
      ]
     },
     "execution_count": 127,
     "metadata": {},
     "output_type": "execute_result"
    }
   ],
   "source": [
    "[mesh[0][i].Cell_size_x for i in range(mesh.shape[1])]"
   ]
  },
  {
   "cell_type": "code",
   "execution_count": 128,
   "id": "7846ab93",
   "metadata": {},
   "outputs": [
    {
     "data": {
      "image/png": "[encoded data removed]",
      "text/plain": [
       "<Figure size 1000x1000 with 1 Axes>"
      ]
     },
     "metadata": {},
     "output_type": "display_data"
    }
   ],
   "source": [
    "fig, ax = plt.subplots(figsize=(10, 10))\n",
    "\n",
    "plot_size_y = 50\n",
    "plot_size_x = 50\n",
    "\n",
    "canvas = np.ones((int(plot_size_y), int(plot_size_x)))\n",
    "ax.imshow(canvas, origin='lower', cmap='gray',\n",
    "          extent=[0, plot_size_x, 0, plot_size_y])\n",
    "\n",
    "for y in range(mesh.shape[0]):\n",
    "    for x in range(mesh.shape[1]):\n",
    "        cell = mesh[y][x]\n",
    "\n",
    "        circle = plt.Circle(\n",
    "                (cell.Gx + cell.Cell_size_x / 2, cell.Gy + cell.Cell_size_y / 2),\n",
    "                0.1, color='red', fill=False\n",
    "            )\n",
    "        ax.add_patch(circle)\n",
    "\n",
    "        rect = plt.Rectangle((cell.Gx, cell.Gy), cell.Cell_size_x, dy, linewidth=1, edgecolor=cell.edge_color, facecolor='none')\n",
    "        ax.add_patch(rect)"
   ]
  },
  {
   "cell_type": "code",
   "execution_count": null,
   "id": "3c26650c",
   "metadata": {},
   "outputs": [],
   "source": []
  }
 ],
 "metadata": {
  "kernelspec": {
   "display_name": "Python 3",
   "language": "python",
   "name": "python3"
  },
  "language_info": {
   "codemirror_mode": {
    "name": "ipython",
    "version": 3
   },
   "file_extension": ".py",
   "mimetype": "text/x-python",
   "name": "python",
   "nbconvert_exporter": "python",
   "pygments_lexer": "ipython3",
   "version": "3.11.5"
  }
 },
 "nbformat": 4,
 "nbformat_minor": 5
}
