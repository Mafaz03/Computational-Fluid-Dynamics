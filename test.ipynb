{
 "cells": [
  {
   "cell_type": "code",
   "execution_count": 200,
   "id": "cb6a0ed8",
   "metadata": {},
   "outputs": [],
   "source": [
    "import numpy as np\n",
    "import matplotlib.pyplot as plt"
   ]
  },
  {
   "cell_type": "code",
   "execution_count": null,
   "id": "bd541a2e",
   "metadata": {},
   "outputs": [],
   "source": [
    "dx = 5\n",
    "dy = 5\n",
    "\n",
    "Lx = 100\n",
    "Ly = 100\n",
    "\n",
    "class node:\n",
    "    def __init__(self):\n",
    "        \n",
    "        self.node_pos = None\n",
    "        self.Cell_size_x = 5\n",
    "        self.Cell_size_y = 5\n",
    "        self.grid_face = None\n",
    "        self.node_type = None \n",
    "\n",
    "        self.Gx = None # Location along the x axis\n",
    "        self.Gy = None # Location along the y axis\n",
    "\n",
    "        self.edge_color = \"blue\"\n",
    "\n",
    "        self.edge_node_pos = []\n",
    "        #    1\n",
    "        # 0|   | 2\n",
    "        #    3"
   ]
  },
  {
   "cell_type": "code",
   "execution_count": 202,
   "id": "8fce9c8b",
   "metadata": {},
   "outputs": [
    {
     "data": {
      "text/plain": [
       "(20, 20)"
      ]
     },
     "execution_count": 202,
     "metadata": {},
     "output_type": "execute_result"
    }
   ],
   "source": [
    "mesh = np.array([[node() for x in range(int(Lx/dx))] for y in range(int(Ly/dy))])\n",
    "mesh.shape"
   ]
  },
  {
   "cell_type": "code",
   "execution_count": 203,
   "id": "e0c078e2",
   "metadata": {},
   "outputs": [],
   "source": [
    "# Equidistant mesh\n",
    "x_val = 0\n",
    "y_val = 0\n",
    "\n",
    "# the origin of the x and y axis is on the bottom left\n",
    "for y in range(mesh.shape[0]):\n",
    "    for x in range(mesh.shape[1]):\n",
    "        cell = mesh[y][x]\n",
    "        cell.Gx = x_val\n",
    "        cell.Gy = y_val\n",
    "\n",
    "        x_val += cell.Cell_size_x\n",
    "    x_val = 0\n",
    "    y_val += cell.Cell_size_y"
   ]
  },
  {
   "cell_type": "code",
   "execution_count": 215,
   "id": "7bd49201",
   "metadata": {},
   "outputs": [
    {
     "name": "stdout",
     "output_type": "stream",
     "text": [
      "[1.96666667 3.93333333 5.9        7.86666667 9.83333333 0.5       ]\n",
      "Sum: 29.999999999999996\n"
     ]
    }
   ],
   "source": [
    "def stretch_one_point_gradual(arr, index, percent):\n",
    "    \"\"\"\n",
    "    Stretch or shrink one point by `percent`, and reduce others progressively.\n",
    "    Total sum remains the same. Keeps the index position intact.\n",
    "    \"\"\"\n",
    "    arr = np.array(arr, dtype=float)\n",
    "    total = arr.sum()\n",
    "    n = len(arr)\n",
    "\n",
    "    # Step 1: Compute new value for chosen index\n",
    "    new_value = arr[index] * (1 + percent / 100.0)\n",
    "\n",
    "    # Step 2: Remaining total for other values\n",
    "    leftover = total - new_value\n",
    "\n",
    "    if leftover < 0:\n",
    "        raise ValueError(\"Percent too negative: total cannot be preserved.\")\n",
    "\n",
    "    # Step 3: Progressive weights for others (based on position)\n",
    "    weights = np.arange(1, n + 1, dtype=float)\n",
    "    weights[index] = 0  # exclude chosen index\n",
    "\n",
    "    # Step 4: Distribute leftover according to weights\n",
    "    factor = leftover / weights.sum()\n",
    "    for i in range(n):\n",
    "        if i != index:\n",
    "            arr[i] = factor * weights[i]\n",
    "    arr[index] = new_value\n",
    "\n",
    "    return arr\n",
    "\n",
    "# Example usage\n",
    "x_axis = [5, 5, 5, 5, 5, 5]\n",
    "result = stretch_one_point_gradual(x_axis, index=-1, percent=-90)  # Stretch 3rd element by {percent}%\n",
    "print(result)\n",
    "print(\"Sum:\", sum(result))"
   ]
  },
  {
   "cell_type": "code",
   "execution_count": 223,
   "id": "b6964ef3",
   "metadata": {},
   "outputs": [
    {
     "data": {
      "text/plain": [
       "4.5"
      ]
     },
     "execution_count": 223,
     "metadata": {},
     "output_type": "execute_result"
    }
   ],
   "source": [
    "5 * ((90)/100)"
   ]
  },
  {
   "cell_type": "code",
   "execution_count": 288,
   "id": "8a88a280",
   "metadata": {},
   "outputs": [
    {
     "name": "stdout",
     "output_type": "stream",
     "text": [
      "25\n"
     ]
    },
    {
     "data": {
      "text/plain": [
       "[0.5, 2.45, 4.9, 7.3500000000000005, 9.8]"
      ]
     },
     "execution_count": 288,
     "metadata": {},
     "output_type": "execute_result"
    }
   ],
   "source": [
    "import numpy as np\n",
    "\n",
    "def strech(axis, index, degrade):\n",
    "    axis = np.array(axis, dtype=float)\n",
    "    total = axis.sum()\n",
    "\n",
    "    # Step 1: shrink chosen index\n",
    "    new_value = axis[index] * ((100 - degrade) / 100.0)\n",
    "\n",
    "    # Step 2: leftover\n",
    "    leftover = total - new_value\n",
    "\n",
    "    # Step 3: distribute leftover based on distance from index\n",
    "    n = len(axis)\n",
    "    distances = np.array([abs(i - index) for i in range(n)], dtype=float)\n",
    "    weights = (distances)    # farther gets more\n",
    "    weights[index] = 0\n",
    "\n",
    "    factor = leftover / weights.sum()\n",
    "\n",
    "    new_axis = np.zeros_like(axis)\n",
    "    for i in range(n):\n",
    "        if i == index:\n",
    "            new_axis[i] = new_value\n",
    "        else:\n",
    "            new_axis[i] = factor * weights[i]\n",
    "\n",
    "    return new_axis.tolist()\n",
    "\n",
    "l = [5,5,5,5,5]\n",
    "print(sum(l))\n",
    "s = strech(l, 0, degrade=90)\n",
    "s"
   ]
  },
  {
   "cell_type": "code",
   "execution_count": 216,
   "id": "caadd969",
   "metadata": {},
   "outputs": [
    {
     "data": {
      "text/plain": [
       "array([0.52368421, 1.04736842, 1.57105263, 2.09473684, 2.61842105,\n",
       "       3.14210526, 3.66578947, 4.18947368, 4.71315789, 5.23684211,\n",
       "       5.76052632, 6.28421053, 6.80789474, 7.33157895, 7.85526316,\n",
       "       8.37894737, 8.90263158, 9.42631579, 9.95      , 0.5       ])"
      ]
     },
     "execution_count": 216,
     "metadata": {},
     "output_type": "execute_result"
    }
   ],
   "source": [
    "degrade = -90\n",
    "result = stretch_one_point_gradual(test_x, index=-1, percent=degrade)\n",
    "result"
   ]
  },
  {
   "cell_type": "code",
   "execution_count": null,
   "id": "73e2e1db",
   "metadata": {},
   "outputs": [],
   "source": [
    "degrade = -90\n",
    "result = stretch_one_point_gradual(test_x, index=-1, percent=degrade)\n",
    "result"
   ]
  },
  {
   "cell_type": "code",
   "execution_count": 217,
   "id": "5301d58e",
   "metadata": {},
   "outputs": [],
   "source": [
    "for y in range(mesh.shape[0]):\n",
    "    # Extract current row cell sizes\n",
    "    x_array_size = [mesh[y][x].Cell_size_x for x in range(mesh.shape[1])]\n",
    "\n",
    "    # Stretch chosen index\n",
    "    stretched_array_size = stretch_one_point_gradual(x_array_size, index=-1, percent=degrade)\n",
    "\n",
    "    # Assign back the new sizes and recompute bottom-left\n",
    "    gx_temp = 0\n",
    "    for x in range(mesh.shape[1]):\n",
    "        mesh[y][x].Cell_size_x = stretched_array_size[x]\n",
    "        mesh[y][x].Gx = gx_temp   # bottom-left of this cell\n",
    "        gx_temp += stretched_array_size[x]\n",
    "\n",
    "for x in range(mesh.shape[1]):\n",
    "    # Extract current column cell sizes\n",
    "    y_array_size = [mesh[y][x].Cell_size_y for y in range(mesh.shape[0])]\n",
    "\n",
    "    # Stretch chosen index (example: bottommost index=0)\n",
    "    stretched_array_size = stretch_one_point_gradual(y_array_size, index=-1, percent=degrade)\n",
    "\n",
    "    # Assign back and recompute bottom-left Gy\n",
    "    gy_temp = 0\n",
    "    for y in range(mesh.shape[0]):\n",
    "        mesh[y][x].Cell_size_y = stretched_array_size[y]\n",
    "        mesh[y][x].Gy = gy_temp\n",
    "        gy_temp += stretched_array_size[y]"
   ]
  },
  {
   "cell_type": "code",
   "execution_count": 218,
   "id": "6da414a7",
   "metadata": {},
   "outputs": [
    {
     "data": {
      "text/plain": [
       "[0.5260526315789473,\n",
       " 1.0521052631578947,\n",
       " 1.578157894736842,\n",
       " 2.1042105263157893,\n",
       " 2.6302631578947366,\n",
       " 3.156315789473684,\n",
       " 3.6823684210526313,\n",
       " 4.208421052631579,\n",
       " 4.734473684210526,\n",
       " 5.260526315789473,\n",
       " 5.786578947368421,\n",
       " 6.312631578947368,\n",
       " 6.838684210526315,\n",
       " 7.364736842105263,\n",
       " 7.89078947368421,\n",
       " 8.416842105263157,\n",
       " 8.942894736842105,\n",
       " 9.468947368421052,\n",
       " 9.995,\n",
       " 0.049999999999999975]"
      ]
     },
     "execution_count": 218,
     "metadata": {},
     "output_type": "execute_result"
    }
   ],
   "source": [
    "[mesh[0][i].Cell_size_x for i in range(mesh.shape[1])]"
   ]
  },
  {
   "cell_type": "code",
   "execution_count": 209,
   "id": "7846ab93",
   "metadata": {},
   "outputs": [
    {
     "data": {
      "image/png": "[encoded data removed]",
      "text/plain": [
       "<Figure size 1000x1000 with 1 Axes>"
      ]
     },
     "metadata": {},
     "output_type": "display_data"
    }
   ],
   "source": [
    "fig, ax = plt.subplots(figsize=(10, 10))\n",
    "\n",
    "plot_size_y = Ly\n",
    "plot_size_x = Lx\n",
    "\n",
    "canvas = np.ones((int(plot_size_y), int(plot_size_x)))\n",
    "ax.imshow(canvas, origin='lower', cmap='gray',\n",
    "          extent=[0, plot_size_x, 0, plot_size_y])\n",
    "\n",
    "for y in range(mesh.shape[0]):\n",
    "    for x in range(mesh.shape[1]):\n",
    "        cell = mesh[y][x]\n",
    "\n",
    "        circle = plt.Circle(\n",
    "                (cell.Gx + cell.Cell_size_x / 2, cell.Gy + cell.Cell_size_y / 2),\n",
    "                0.1, color='red', fill=False\n",
    "            )\n",
    "        ax.add_patch(circle)\n",
    "\n",
    "        rect = plt.Rectangle((cell.Gx, cell.Gy), cell.Cell_size_x, cell.Cell_size_y, linewidth=1, edgecolor=cell.edge_color, facecolor='none')\n",
    "        ax.add_patch(rect)"
   ]
  },
  {
   "cell_type": "code",
   "execution_count": null,
   "id": "3c26650c",
   "metadata": {},
   "outputs": [],
   "source": []
  }
 ],
 "metadata": {
  "kernelspec": {
   "display_name": "Python 3",
   "language": "python",
   "name": "python3"
  },
  "language_info": {
   "codemirror_mode": {
    "name": "ipython",
    "version": 3
   },
   "file_extension": ".py",
   "mimetype": "text/x-python",
   "name": "python",
   "nbconvert_exporter": "python",
   "pygments_lexer": "ipython3",
   "version": "3.11.5"
  }
 },
 "nbformat": 4,
 "nbformat_minor": 5
}
